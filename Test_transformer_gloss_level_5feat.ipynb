{
 "cells": [
  {
   "cell_type": "code",
   "execution_count": 1,
   "metadata": {},
   "outputs": [
    {
     "name": "stdout",
     "output_type": "stream",
     "text": [
      "cuda\n"
     ]
    }
   ],
   "source": [
    "\"\"\"\n",
    "Train the seq2seq network on 5 PCA features of each frame on the input data.\n",
    "\"\"\"\n",
    "from __future__ import unicode_literals, print_function, division\n",
    "from io import open\n",
    "import unicodedata\n",
    "import string\n",
    "import re\n",
    "import pickle\n",
    "import random\n",
    "import random\n",
    "\n",
    "import numpy as np\n",
    "import matplotlib.pyplot as plt\n",
    "\n",
    "import torch\n",
    "import torch.nn as nn\n",
    "from torch import optim\n",
    "import torch.nn.functional as F\n",
    "\n",
    "from transformer import buildTransformer\n",
    "\n",
    "device = torch.device(\"cuda\" if torch.cuda.is_available() else \"cpu\")\n",
    "print(device)\n",
    "# device = \"cpu\""
   ]
  },
  {
   "cell_type": "code",
   "execution_count": 2,
   "metadata": {},
   "outputs": [],
   "source": [
    "import time\n",
    "import math\n",
    "\n",
    "\n",
    "def asMinutes(s):\n",
    "    m = math.floor(s / 60)\n",
    "    s -= m * 60\n",
    "    return '%dm %ds' % (m, s)\n",
    "\n",
    "\n",
    "def timeSince(since, percent):\n",
    "    now = time.time()\n",
    "    s = now - since\n",
    "    es = s / (percent)\n",
    "    rs = es - s\n",
    "    return '%s (- %s)' % (asMinutes(s), asMinutes(rs))\n",
    "\n",
    "import matplotlib.pyplot as plt\n",
    "plt.switch_backend('agg')\n",
    "import matplotlib.ticker as ticker\n",
    "import numpy as np\n",
    "\n",
    "\n",
    "def showPlot(points):\n",
    "    plt.figure()\n",
    "    fig, ax = plt.subplots()\n",
    "    # this locator puts ticks at regular intervals\n",
    "#     loc = ticker.MultipleLocator(base=0.2)\n",
    "#     ax.yaxis.set_major_locator(loc)\n",
    "    %matplotlib inline\n",
    "    plt.plot(points)"
   ]
  },
  {
   "cell_type": "code",
   "execution_count": 3,
   "metadata": {},
   "outputs": [],
   "source": [
    "\"\"\"\n",
    "Randomly drop 5, 10, 15, 20% frames from each sentence, to perfrorm augmentation.\n",
    "\"\"\"\n",
    "def augment_all(temp):\n",
    "    r_5 = remove_5(temp)\n",
    "    r_10 = remove_10(temp)\n",
    "    r_15 = remove_15(temp)\n",
    "    r_20 = remove_20(temp)\n",
    "    \n",
    "    temp = np.vstack((temp, r_5))\n",
    "    temp = np.vstack((temp, r_10))\n",
    "    temp = np.vstack((temp, r_15))\n",
    "    temp = np.vstack((temp, r_20))\n",
    "    \n",
    "    return temp"
   ]
  },
  {
   "cell_type": "code",
   "execution_count": 4,
   "metadata": {},
   "outputs": [],
   "source": [
    "# randomly drop 15% of frames\n",
    "def remove_15(temp):\n",
    "    for i in range(temp.shape[0]):\n",
    "        x = temp[i][0]\n",
    "#         print(\"before : \",temp[i][0].shape)\n",
    "        removed_indexes = np.random.randint(0, x.shape[0],np.int(np.floor(x.shape[0]*0.15)))\n",
    "        selected_indexes = np.setdiff1d(np.arange(x.shape[0]),removed_indexes)\n",
    "        temp[i][0] = x[selected_indexes]\n",
    "#         print('After: ', temp[i][0].shape)\n",
    "        \n",
    "    return temp\n",
    "\n",
    "# randomly drop 5% of frames\n",
    "def remove_5(temp):\n",
    "    for i in range(temp.shape[0]):\n",
    "        x = temp[i][0]\n",
    "#         print(\"before : \",temp[i][0].shape)\n",
    "        removed_indexes = np.random.randint(0, x.shape[0],np.int(np.floor(x.shape[0]*0.05)))\n",
    "        selected_indexes = np.setdiff1d(np.arange(x.shape[0]),removed_indexes)\n",
    "        temp[i][0] = x[selected_indexes]\n",
    "#         print('After: ', temp[i][0].shape)\n",
    "        \n",
    "    return temp\n",
    "\n",
    "# randomly drop 20% of frames\n",
    "def remove_20(temp):\n",
    "    for i in range(temp.shape[0]):\n",
    "        x = temp[i][0]\n",
    "#         print(\"before : \",temp[i][0].shape)\n",
    "        removed_indexes = np.random.randint(0, x.shape[0],np.int(np.floor(x.shape[0]*0.20)))\n",
    "        selected_indexes = np.setdiff1d(np.arange(x.shape[0]),removed_indexes)\n",
    "        temp[i][0] = x[selected_indexes]\n",
    "#         print('After: ', temp[i][0].shape)\n",
    "        \n",
    "    return temp\n",
    "\n",
    "\n",
    "# randomly drop 10% of frames\n",
    "def remove_10(temp):\n",
    "    for i in range(temp.shape[0]):\n",
    "        x = temp[i][0]\n",
    "#         print(\"before : \",temp[i][0].shape)\n",
    "        removed_indexes = np.random.randint(0, x.shape[0],np.int(np.floor(x.shape[0]*0.10)))\n",
    "        selected_indexes = np.setdiff1d(np.arange(x.shape[0]),removed_indexes)\n",
    "        temp[i][0] = x[selected_indexes]\n",
    "#         print('After: ', temp[i][0].shape)\n",
    "        \n",
    "    return temp"
   ]
  },
  {
   "cell_type": "code",
   "execution_count": 5,
   "metadata": {},
   "outputs": [
    {
     "name": "stdout",
     "output_type": "stream",
     "text": [
      "After Augmentation:  (570, 2)\n"
     ]
    }
   ],
   "source": [
    "sentence_data = np.load('PCA_5feat_sentence_frame_mapped_l10.npy')\n",
    "# sentence_data_w1 = np.load('sentence_frame_mapped_w1_42.npy')\n",
    "# sentence_data_w3 = np.load('sentence_frame_mapped_w3_42.npy')\n",
    "\n",
    "# sentence_data = np.vstack((sentence_data,sentence_data_w1))\n",
    "# sentence_data = np.vstack((sentence_data,sentence_data_w3))\n",
    "# print(\"Before Augmentation: \",sentence_data.shape)\n",
    "# sentence_data = augment_all(sentence_data)\n",
    "print(\"After Augmentation: \", sentence_data.shape)"
   ]
  },
  {
   "cell_type": "code",
   "execution_count": 6,
   "metadata": {},
   "outputs": [
    {
     "name": "stdout",
     "output_type": "stream",
     "text": [
      "568\n"
     ]
    }
   ],
   "source": [
    "# Normalize the features between 0 and 10\n",
    "temp = []\n",
    "def scale(X, x_min, x_max):\n",
    "    nom = (X-X.min(axis=0))*(x_max-x_min)\n",
    "    denom = X.max(axis=0) - X.min(axis=0)\n",
    "    denom[denom==0] = 1\n",
    "    return x_min + nom/denom \n",
    "\n",
    "for i in range(sentence_data.shape[0]):\n",
    "    if sentence_data[i][0].shape[0]!=0:\n",
    "        sentence_data[i][0] = scale(sentence_data[i][0],0,10)\n",
    "        temp.append(sentence_data[i])\n",
    "temp = np.array(temp)\n",
    "sentence_data = temp\n",
    "DATA_SHAPE = sentence_data.shape[0]\n",
    "print(DATA_SHAPE)"
   ]
  },
  {
   "cell_type": "code",
   "execution_count": 7,
   "metadata": {},
   "outputs": [
    {
     "name": "stdout",
     "output_type": "stream",
     "text": [
      "(568, 2)\n",
      "(127, 5)\n"
     ]
    }
   ],
   "source": [
    "print(sentence_data.shape)\n",
    "print(sentence_data[0,0].shape)"
   ]
  },
  {
   "cell_type": "code",
   "execution_count": 8,
   "metadata": {},
   "outputs": [
    {
     "name": "stdout",
     "output_type": "stream",
     "text": [
      "(568, 2)\n"
     ]
    }
   ],
   "source": [
    "print(sentence_data.shape)\n",
    "\n",
    "def get_sentence_data(num,n_data_pts):\n",
    "    num = num%n_data_pts\n",
    "#     num = num%sentence_data.shape[0]\n",
    "    return [torch.FloatTensor(sentence_data[num][0]).to(device), sentence_data[num][1]]\n",
    "#     return [torch.FloatTensor(sentence_data[1][0]).to(device), sentence_data[1][1]]\n",
    "# print(get_sentence_data(0))"
   ]
  },
  {
   "cell_type": "code",
   "execution_count": 9,
   "metadata": {},
   "outputs": [],
   "source": [
    "# We’ll need a unique index per word to use as the inputs and targets of the networks later. \n",
    "# To keep track of all this we will use a helper class called Lang which has word → index (word2index) and \n",
    "# index → word (index2word) dictionaries, as well as a count of each word word2count to use to later replace rare words.\n",
    "\n",
    "SOS_token = 0\n",
    "EOS_token = 1\n",
    "\n",
    "\n",
    "class Lang:\n",
    "    def __init__(self, name):\n",
    "        self.name = name\n",
    "        self.word2index = {}\n",
    "        self.word2count = {}\n",
    "        self.index2word = {0: \"SOS\", 1: \"EOS\"}\n",
    "        self.n_words = 2  # Count SOS and EOS\n",
    "\n",
    "    def addSentence(self, sentence):\n",
    "        for word in sentence.split(' '):\n",
    "            self.addWord(word)\n",
    "\n",
    "    def addWord(self, word):\n",
    "        if word not in self.word2index:\n",
    "            self.word2index[word] = self.n_words\n",
    "            self.word2count[word] = 1\n",
    "            self.index2word[self.n_words] = word\n",
    "            self.n_words += 1\n",
    "        else:\n",
    "            self.word2count[word] += 1"
   ]
  },
  {
   "cell_type": "code",
   "execution_count": 10,
   "metadata": {},
   "outputs": [],
   "source": [
    "# The files are all in Unicode, to simplify we will turn Unicode characters to ASCII, make everything lowercase, \n",
    "# and trim most punctuation.\n",
    "\n",
    "def unicodeToAscii(s):\n",
    "    return ''.join(\n",
    "        c for c in unicodedata.normalize('NFD', s)\n",
    "        if unicodedata.category(c) != 'Mn'\n",
    "    )\n",
    "\n",
    "# Lowercase, trim, and remove non-letter characters\n",
    "\n",
    "\n",
    "def normalizeString(s):\n",
    "    s = unicodeToAscii(s.lower().strip())\n",
    "#     s = re.sub(r\"([.!?])\", r\" \\1\", s)\n",
    "#     s = re.sub(r\"[^a-zA-Z]+\", r\" \", s)\n",
    "    return s"
   ]
  },
  {
   "cell_type": "code",
   "execution_count": 11,
   "metadata": {},
   "outputs": [],
   "source": [
    "# To read the data file we will split the file into lines, and then split lines into pairs. \n",
    "# The files are all English → Other Language, so if we want to translate from Other Language → English \n",
    "# I added the reverse flag to reverse the pairs.\n",
    "\n",
    "def readLangs():\n",
    "    pairs = [get_sentence_data(i,DATA_SHAPE) for i in range(DATA_SHAPE)]\n",
    "    for i in range(len(pairs)):\n",
    "        pairs[i][1] = normalizeString(pairs[i][1])\n",
    "    \n",
    "\n",
    "    output_lang = Lang('english')\n",
    "\n",
    "    return output_lang, pairs"
   ]
  },
  {
   "cell_type": "code",
   "execution_count": 2,
   "metadata": {},
   "outputs": [
    {
     "name": "stdout",
     "output_type": "stream",
     "text": [
      "Help on method choice in module random:\n",
      "\n",
      "choice(self, seq) method of random.Random instance\n",
      "    Choose a random element from a non-empty sequence.\n",
      "\n"
     ]
    }
   ],
   "source": [
    "help(random.choice)"
   ]
  },
  {
   "cell_type": "code",
   "execution_count": 12,
   "metadata": {},
   "outputs": [
    {
     "name": "stdout",
     "output_type": "stream",
     "text": [
      "Read 568 sentence pairs\n",
      "Counting words...\n",
      "Counted words:\n",
      "english 1905\n",
      "<__main__.Lang instance at 0x7fd843fb1200>\n",
      "torch.Size([193, 5]) than fs-rit gallaudet have great tradition strange tradition fs-rit none\n"
     ]
    }
   ],
   "source": [
    "def prepareData():\n",
    "    output_lang, pairs = readLangs()\n",
    "    print(\"Read %s sentence pairs\" % len(pairs))\n",
    "    print(\"Counting words...\")\n",
    "    for pair in pairs:\n",
    "        output_lang.addSentence(pair[1])\n",
    "    print(\"Counted words:\")\n",
    "    print(output_lang.name, output_lang.n_words)\n",
    "    return output_lang, pairs\n",
    "\n",
    "output_lang, pairs = prepareData()\n",
    "print(output_lang)\n",
    "choice = random.choice(pairs)\n",
    "print(choice[0].size(), choice[1])\n"
   ]
  },
  {
   "cell_type": "code",
   "execution_count": 16,
   "metadata": {},
   "outputs": [
    {
     "name": "stdout",
     "output_type": "stream",
     "text": [
      "104\n"
     ]
    }
   ],
   "source": [
    "print(len(choice[0]))"
   ]
  },
  {
   "cell_type": "code",
   "execution_count": 13,
   "metadata": {},
   "outputs": [],
   "source": [
    "def indexesFromSentence(lang, sentence):\n",
    "    return [lang.word2index[word] for word in sentence.split(' ')]\n",
    "\n",
    "\n",
    "def tensorFromSentence(lang, sentence):\n",
    "    indexes = indexesFromSentence(lang, sentence)\n",
    "    indexes.append(EOS_token)\n",
    "    return torch.tensor(indexes, dtype=torch.long, device=device).view(-1, 1)\n",
    "\n",
    "\n",
    "def tensorsFromPair(pair):\n",
    "    input_tensor = pair[0]\n",
    "    target_tensor = tensorFromSentence(output_lang, pair[1])\n",
    "    return [input_tensor, target_tensor]\n",
    "\n",
    "training_pairs = [tensorsFromPair(pairs[i]) for i in range(DATA_SHAPE)]\n",
    "#print(training_pairs[0])"
   ]
  },
  {
   "cell_type": "code",
   "execution_count": 14,
   "metadata": {},
   "outputs": [
    {
     "name": "stdout",
     "output_type": "stream",
     "text": [
      "then cl\"leave\" to/until machine cl\"skin through machine and needles\" fs-holes cl\"holes\" (s)elasti+ cl\"stretchy graft put on arm\" cl\"invisible\"\n",
      "142 characters\n"
     ]
    }
   ],
   "source": [
    "MAX = max(np.array(pairs)[:,1], key=len)\n",
    "print(MAX)\n",
    "print(len(MAX), \"characters\")"
   ]
  },
  {
   "cell_type": "code",
   "execution_count": 15,
   "metadata": {},
   "outputs": [
    {
     "name": "stdout",
     "output_type": "stream",
     "text": [
      "37\n"
     ]
    }
   ],
   "source": [
    "MAX_LENGTH_FRAMES = int(max(np.array(pairs)[:,0], key=len).shape[0]/10)\n",
    "print(MAX_LENGTH_FRAMES)\n"
   ]
  },
  {
   "cell_type": "code",
   "execution_count": 45,
   "metadata": {},
   "outputs": [],
   "source": [
    "def trainIters(model, n_iters,n_data_pts, criterion, print_every=10, plot_every=10, learning_rate=0.001):\n",
    "    start = time.time()\n",
    "    plot_losses = []\n",
    "    print_loss_total = 0  # Reset every print_every\n",
    "    plot_loss_total = 0  # Reset every plot_every\n",
    "    \n",
    "    optimizer = optim.Adam(model.parameters(), lr=learning_rate)    \n",
    "    \n",
    "    training_pairs = np.array([tensorsFromPair(pairs[i]) for i in range(n_data_pts)])\n",
    "#     randomselect = random.sample(range(training_pairs.shape[0]),training_pairs.shape[0])\n",
    "#     training_pairs = training_pairs[randomselect]\n",
    "    \n",
    "    #criterion = nn.NLLLoss()\n",
    "    \n",
    "    iter_loss = []\n",
    "\n",
    "    for i in range(1,n_iters+1):\n",
    "        for iter in range(1, n_data_pts + 1):\n",
    "            training_pair = training_pairs[iter-1]\n",
    "            input_tensor = training_pair[0]\n",
    "            target_tensor = training_pair[1]\n",
    "#             print(target_tensor)\n",
    "            if input_tensor.size(0) < 21:\n",
    "                pass\n",
    "            else:\n",
    "                \n",
    "            print_loss_total += loss\n",
    "            plot_loss_total += loss\n",
    "        \n",
    "        print_loss_total = print_loss_total / n_data_pts\n",
    "        plot_loss_total = plot_loss_total / n_data_pts\n",
    "        \n",
    "        \n",
    "        if i % print_every == 0:\n",
    "            print_loss_avg = print_loss_total #/ print_every\n",
    "            print_loss_total = 0\n",
    "            print('%s (%d %d%%) %.4f' % (timeSince(start, i / (n_iters)),\n",
    "                                         i, i / (n_iters) * 100, print_loss_avg))\n",
    "        \n",
    "        if i % plot_every == 0:\n",
    "            plot_loss_avg = plot_loss_total #/ plot_every\n",
    "            iter_loss.append(plot_loss_avg)\n",
    "            plot_loss_total = 0\n",
    "\n",
    "    showPlot(iter_loss)\n",
    "    \n",
    "    return iter_loss"
   ]
  },
  {
   "cell_type": "code",
   "execution_count": 16,
   "metadata": {},
   "outputs": [
    {
     "name": "stdout",
     "output_type": "stream",
     "text": [
      "torch.Size([160, 5]) torch.Size([11, 1])\n"
     ]
    }
   ],
   "source": [
    "pair = tensorsFromPair(pairs[1])\n",
    "print(pair[0].size(), pair[1].size())"
   ]
  },
  {
   "cell_type": "code",
   "execution_count": 50,
   "metadata": {},
   "outputs": [
    {
     "name": "stderr",
     "output_type": "stream",
     "text": [
      "/usr/local/lib/python2.7/dist-packages/ipykernel_launcher.py:47: UserWarning: To copy construct from a tensor, it is recommended to use sourceTensor.clone().detach() or sourceTensor.clone().detach().requires_grad_(True), rather than torch.tensor(sourceTensor).\n"
     ]
    },
    {
     "name": "stdout",
     "output_type": "stream",
     "text": [
      "0m 2s (- 4m 19s) (1 1%) 7.5312\n",
      "0m 5s (- 4m 20s) (2 2%) 7.3447\n",
      "0m 8s (- 4m 20s) (3 3%) 6.8624\n",
      "0m 10s (- 4m 18s) (4 4%) 5.4218\n",
      "0m 13s (- 4m 14s) (5 5%) 3.4488\n",
      "0m 15s (- 4m 6s) (6 6%) 2.8533\n",
      "0m 18s (- 4m 2s) (7 7%) 3.9166\n",
      "0m 21s (- 4m 1s) (8 8%) 3.7622\n",
      "0m 23s (- 3m 59s) (9 9%) 3.6540\n",
      "0m 26s (- 3m 57s) (10 10%) 3.5674\n",
      "0m 29s (- 3m 55s) (11 11%) 3.2402\n",
      "0m 31s (- 3m 53s) (12 12%) 3.0149\n",
      "0m 34s (- 3m 48s) (13 13%) 2.0227\n",
      "0m 36s (- 3m 44s) (14 14%) 3.0849\n",
      "0m 38s (- 3m 40s) (15 15%) 2.1114\n",
      "0m 41s (- 3m 38s) (16 16%) 2.7548\n",
      "0m 44s (- 3m 35s) (17 17%) 2.2894\n",
      "0m 46s (- 3m 31s) (18 18%) 2.0960\n",
      "0m 48s (- 3m 27s) (19 19%) 2.4041\n",
      "0m 51s (- 3m 24s) (20 20%) 2.4765\n",
      "0m 53s (- 3m 20s) (21 21%) 2.5398\n",
      "0m 55s (- 3m 17s) (22 22%) 2.1502\n",
      "0m 58s (- 3m 15s) (23 23%) 2.7050\n",
      "1m 0s (- 3m 13s) (24 24%) 2.3064\n",
      "1m 3s (- 3m 9s) (25 25%) 1.8360\n",
      "1m 5s (- 3m 6s) (26 26%) 2.3498\n",
      "1m 7s (- 3m 3s) (27 27%) 1.6463\n",
      "1m 10s (- 3m 0s) (28 28%) 2.1083\n",
      "1m 12s (- 2m 57s) (29 28%) 1.9035\n",
      "1m 14s (- 2m 54s) (30 30%) 1.9707\n",
      "1m 17s (- 2m 51s) (31 31%) 2.3293\n",
      "1m 19s (- 2m 49s) (32 32%) 2.2372\n",
      "1m 22s (- 2m 47s) (33 33%) 1.6685\n",
      "1m 24s (- 2m 44s) (34 34%) 1.9377\n",
      "1m 27s (- 2m 42s) (35 35%) 1.6971\n",
      "1m 29s (- 2m 39s) (36 36%) 1.6572\n",
      "1m 31s (- 2m 36s) (37 37%) 1.6485\n",
      "1m 34s (- 2m 33s) (38 38%) 2.2247\n",
      "1m 36s (- 2m 31s) (39 39%) 2.0238\n",
      "1m 39s (- 2m 28s) (40 40%) 1.7981\n",
      "1m 41s (- 2m 25s) (41 41%) 1.8407\n",
      "1m 43s (- 2m 23s) (42 42%) 2.1084\n",
      "1m 46s (- 2m 20s) (43 43%) 1.7812\n",
      "1m 48s (- 2m 18s) (44 44%) 1.9297\n",
      "1m 50s (- 2m 15s) (45 45%) 1.9047\n",
      "1m 53s (- 2m 13s) (46 46%) 1.9325\n",
      "1m 55s (- 2m 10s) (47 47%) 1.8850\n",
      "1m 58s (- 2m 7s) (48 48%) 1.8223\n",
      "2m 0s (- 2m 5s) (49 49%) 1.7646\n",
      "2m 2s (- 2m 2s) (50 50%) 1.8039\n",
      "2m 5s (- 2m 0s) (51 51%) 1.7507\n",
      "2m 7s (- 1m 57s) (52 52%) 1.7323\n",
      "2m 10s (- 1m 55s) (53 53%) 1.7041\n",
      "2m 12s (- 1m 53s) (54 54%) 1.6693\n",
      "2m 15s (- 1m 50s) (55 55%) 1.6408\n",
      "2m 18s (- 1m 48s) (56 56%) 1.6222\n",
      "2m 21s (- 1m 46s) (57 56%) 1.8275\n",
      "2m 23s (- 1m 44s) (58 57%) 1.7924\n",
      "2m 26s (- 1m 41s) (59 59%) 1.6541\n",
      "2m 28s (- 1m 39s) (60 60%) 1.6043\n",
      "2m 31s (- 1m 36s) (61 61%) 1.5603\n",
      "2m 33s (- 1m 34s) (62 62%) 1.5167\n",
      "2m 35s (- 1m 31s) (63 63%) 1.4973\n",
      "2m 38s (- 1m 29s) (64 64%) 1.4626\n",
      "2m 41s (- 1m 26s) (65 65%) 1.4331\n",
      "2m 43s (- 1m 24s) (66 66%) 1.4022\n",
      "2m 46s (- 1m 22s) (67 67%) 1.3676\n",
      "2m 49s (- 1m 19s) (68 68%) 1.3219\n",
      "2m 51s (- 1m 17s) (69 69%) 1.2909\n",
      "2m 54s (- 1m 14s) (70 70%) 1.2521\n",
      "2m 57s (- 1m 12s) (71 71%) 1.2934\n",
      "3m 0s (- 1m 10s) (72 72%) 1.2564\n",
      "3m 2s (- 1m 7s) (73 73%) 1.3556\n",
      "3m 5s (- 1m 5s) (74 74%) 1.1898\n",
      "3m 8s (- 1m 2s) (75 75%) 1.1933\n",
      "3m 10s (- 1m 0s) (76 76%) 1.0928\n",
      "3m 13s (- 0m 57s) (77 77%) 1.0588\n",
      "3m 16s (- 0m 55s) (78 78%) 1.0031\n",
      "3m 19s (- 0m 52s) (79 79%) 0.9582\n",
      "3m 21s (- 0m 50s) (80 80%) 0.9097\n",
      "3m 24s (- 0m 47s) (81 81%) 0.8672\n",
      "3m 27s (- 0m 45s) (82 82%) 0.8451\n",
      "3m 29s (- 0m 42s) (83 83%) 0.9015\n",
      "3m 32s (- 0m 40s) (84 84%) 1.0092\n",
      "3m 35s (- 0m 38s) (85 85%) 0.9447\n",
      "3m 38s (- 0m 35s) (86 86%) 1.1172\n",
      "3m 40s (- 0m 32s) (87 87%) 1.0561\n",
      "3m 43s (- 0m 30s) (88 88%) 1.0641\n",
      "3m 46s (- 0m 27s) (89 89%) 1.0961\n",
      "3m 48s (- 0m 25s) (90 90%) 1.6911\n",
      "3m 51s (- 0m 22s) (91 91%) 3.0113\n",
      "3m 54s (- 0m 20s) (92 92%) 1.8247\n",
      "3m 57s (- 0m 17s) (93 93%) 1.6081\n",
      "3m 59s (- 0m 15s) (94 94%) 1.3953\n",
      "4m 2s (- 0m 12s) (95 95%) 1.2828\n",
      "4m 4s (- 0m 10s) (96 96%) 1.1274\n",
      "4m 7s (- 0m 7s) (97 97%) 1.0895\n",
      "4m 10s (- 0m 5s) (98 98%) 1.0204\n",
      "4m 13s (- 0m 2s) (99 99%) 1.0286\n",
      "4m 15s (- 0m 0s) (100 100%) 1.0009\n"
     ]
    },
    {
     "data": {
      "image/png": "[encoded data removed]",
      "text/plain": [
       "<Figure size 432x288 with 1 Axes>"
      ]
     },
     "metadata": {
      "needs_background": "light"
     },
     "output_type": "display_data"
    }
   ],
   "source": [
    "hidden_size = 10\n",
    "window_length = 5\n",
    "# encoder = EncoderRNN(window_length, hidden_size).to(device)\n",
    "encoder = torch.load('pretrained_155_f5_v1')\n",
    "\n",
    "decoder = AttnDecoderRNN(10, output_lang.n_words, dropout_p=0.1).to(device)\n",
    "\n",
    "plt_loss = trainIters(encoder,decoder, 100, 10, print_every=1, plot_every=1)\n",
    "# torch.save(encoder1,'comb_enc_025_v2')\n",
    "# torch.save(decoder,'comb_dec_025_v2')"
   ]
  },
  {
   "cell_type": "code",
   "execution_count": 51,
   "metadata": {},
   "outputs": [],
   "source": [
    "def evaluate(encoder, decoder, sentence, max_length=MAX_LENGTH):\n",
    "    with torch.no_grad():\n",
    "        input_tensor = tensorFromSentence(output_lang,sentence[1])\n",
    "#         print(input_tensor)\n",
    "#         print(sentence[1])\n",
    "        input_length = input_tensor.size()[0]\n",
    "        \n",
    "        ENCODER_WINDOW = 10\n",
    "        ENCODER_SLIDE = 10 # previously 1\n",
    "        \n",
    "        encoder_hidden = encoder.initHidden()\n",
    "        encoder_h = encoder_hidden\n",
    "        \n",
    "        encoder_outputs = torch.zeros(max_length, 50, device=device)\n",
    "        \n",
    "        ct = 0\n",
    "#         print(max_length)\n",
    "        for ei in range(0,input_length,ENCODER_SLIDE):\n",
    "            if ei < input_length-(ENCODER_WINDOW+ENCODER_SLIDE): # input_length-11:\n",
    "        #             print(ei,'-',ei+ENCODER_WINDOW)\n",
    "                encoder_output, encoder_hidden = encoder(input_tensor[ei:ei+ENCODER_WINDOW], encoder_hidden)\n",
    "                encoder_h = encoder_hidden.view(-1)\n",
    "                encoder_o = encoder_output.view(-1)\n",
    "                encoder_output = torch.squeeze(encoder_output)\n",
    "        #             print(encoder_hidden)\n",
    "        #             print(encoder_output.data.shape)\n",
    "        #         encoder_outputs[ei] = encoder_output[0, 0]\n",
    "                encoder_outputs[ct] = encoder_o\n",
    "                ct+=1\n",
    "\n",
    "        decoder_input = torch.tensor([[SOS_token]], device=device)  # SOS\n",
    "        \n",
    "        \n",
    "        decoder_hidden = encoder_hidden.view(-1)\n",
    "\n",
    "        decoded_words = []\n",
    "        decoder_attentions = torch.zeros(max_length, max_length)\n",
    "\n",
    "        for di in range(max_length):\n",
    "            decoder_output, decoder_hidden, decoder_attention = decoder(\n",
    "                decoder_input, decoder_hidden, encoder_outputs)\n",
    "            decoder_attentions[di] = decoder_attention.data\n",
    "            topv, topi = decoder_output.data.topk(1)\n",
    "#             print('topv: ', topv,'   topi:',topi)\n",
    "            if topi.item() == EOS_token:\n",
    "                decoded_words.append('<EOS>')\n",
    "                break\n",
    "            else:\n",
    "                decoded_words.append(output_lang.index2word[topi.item()])\n",
    "\n",
    "            decoder_input = topi.squeeze().detach()\n",
    "\n",
    "        return decoded_words, decoder_attentions[:di + 1]"
   ]
  },
  {
   "cell_type": "code",
   "execution_count": 53,
   "metadata": {},
   "outputs": [
    {
     "name": "stdout",
     "output_type": "stream",
     "text": [
      "Target:  go deaf school ps47 ix-1-s:s hearing family one deaf brother\n",
      "Predicted:  now ix-1-s:s ix-1-s:s now ix-1-s:s will <EOS>\n",
      "\n",
      "Target:  in fs-brooklyn in where fs-coney island have+ brother one hearing\n",
      "Predicted:  now ix-1-s:s ix-1-s:s now ix-1-s:s ix-1-s:s will <EOS>\n",
      "\n",
      "Target:  go deaf school ps47 ix-1-s:s hearing family one deaf brother\n",
      "Predicted:  now ix-1-s:s ix-1-s:s now ix-1-s:s will <EOS>\n",
      "\n",
      "Target:  old twenty-six ix-1-s:1 hearing but can sign ix-2-p:1,s tall ix-1-s:1\n",
      "Predicted:  now ix-1-s:s ix-1-s:s ix-1-s:s ix-1-s:s ix-1-s:s will <EOS>\n",
      "\n"
     ]
    }
   ],
   "source": [
    "def evaluateRandomly(encoder, decoder, n=10,data =10):\n",
    "    for i in range(data):\n",
    "        pair = random.choice(pairs[0:n])\n",
    "#         print('>', pair[0].shape)\n",
    "        print('Target: ', pair[1])\n",
    "        output_words, attentions = evaluate(encoder, decoder, pair)\n",
    "        output_sentence = ' '.join(output_words)\n",
    "        print('Predicted: ', output_sentence)\n",
    "        print('')\n",
    "        \n",
    "evaluateRandomly(encoder,decoder,10,4)"
   ]
  },
  {
   "cell_type": "code",
   "execution_count": 27,
   "metadata": {},
   "outputs": [],
   "source": [
    "from nltk.translate.bleu_score import sentence_bleu"
   ]
  },
  {
   "cell_type": "code",
   "execution_count": 16,
   "metadata": {},
   "outputs": [],
   "source": [
    "def evaluateRandomly(encoder, decoder, n=10):\n",
    "    for i in range(n):\n",
    "        pair = random.choice(pairs)\n",
    "        print('>', pair[0])\n",
    "        print('=', pair[1])\n",
    "        output_words, attentions = evaluate(encoder, decoder, pair[0])\n",
    "        output_sentence = ' '.join(output_words)\n",
    "        print('<', output_sentence)\n",
    "        print('')\n",
    "        \n",
    "def evaluateRandomBleu(encoder, decoder,n = 1000):\n",
    "    count = 0\n",
    "    bleu = 0\n",
    "    for i in range(n):\n",
    "        pair = random.choice(pairs)\n",
    "#         print('>', pair[0])\n",
    "#         print('=', pair[1])\n",
    "        output_words, attentions = evaluate(encoder, decoder, pair[0])\n",
    "        output_sentence = ' '.join(output_words)\n",
    "#         print('<', output_sentence)\n",
    "#         print(\"BLEU = \",sentence_bleu(output_sentence,pair[1]))\n",
    "        bleu+=sentence_bleu(output_sentence,pair[1])\n",
    "        count+=1\n",
    "    print(\"Average BLEU = \",bleu/count)"
   ]
  },
  {
   "cell_type": "code",
   "execution_count": 18,
   "metadata": {},
   "outputs": [
    {
     "ename": "NameError",
     "evalue": "name 'encoder1' is not defined",
     "output_type": "error",
     "traceback": [
      "\u001b[0;31m---------------------------------------------------------------------------\u001b[0m",
      "\u001b[0;31mNameError\u001b[0m                                 Traceback (most recent call last)",
      "\u001b[0;32m<ipython-input-18-752866089bea>\u001b[0m in \u001b[0;36m<module>\u001b[0;34m()\u001b[0m\n\u001b[0;32m----> 1\u001b[0;31m \u001b[0mevaluateRandomly\u001b[0m\u001b[0;34m(\u001b[0m\u001b[0mencoder1\u001b[0m\u001b[0;34m,\u001b[0m \u001b[0mattn_decoder1\u001b[0m\u001b[0;34m)\u001b[0m\u001b[0;34m\u001b[0m\u001b[0m\n\u001b[0m",
      "\u001b[0;31mNameError\u001b[0m: name 'encoder1' is not defined"
     ]
    }
   ],
   "source": [
    "evaluateRandomly(encoder1, attn_decoder1)"
   ]
  },
  {
   "cell_type": "code",
   "execution_count": 45,
   "metadata": {},
   "outputs": [
    {
     "name": "stdout",
     "output_type": "stream",
     "text": [
      "Average BLEU =  0.850870240641\n"
     ]
    }
   ],
   "source": [
    "evaluateRandomBleu(encoder1, attn_decoder1)"
   ]
  },
  {
   "cell_type": "code",
   "execution_count": 17,
   "metadata": {},
   "outputs": [
    {
     "ename": "IndexError",
     "evalue": "list index out of range",
     "output_type": "error",
     "traceback": [
      "\u001b[0;31m---------------------------------------------------------------------------\u001b[0m",
      "\u001b[0;31mIndexError\u001b[0m                                Traceback (most recent call last)",
      "\u001b[0;32m<ipython-input-17-a7ce326eaf3b>\u001b[0m in \u001b[0;36m<module>\u001b[0;34m()\u001b[0m\n\u001b[1;32m      2\u001b[0m \u001b[0mtraining_pair\u001b[0m \u001b[0;34m=\u001b[0m \u001b[0;34m[\u001b[0m\u001b[0;36m13229\u001b[0m\u001b[0;34m]\u001b[0m\u001b[0;34m\u001b[0m\u001b[0m\n\u001b[1;32m      3\u001b[0m \u001b[0minput_tensor\u001b[0m \u001b[0;34m=\u001b[0m \u001b[0mtraining_pair\u001b[0m\u001b[0;34m[\u001b[0m\u001b[0;36m0\u001b[0m\u001b[0;34m]\u001b[0m\u001b[0;34m\u001b[0m\u001b[0m\n\u001b[0;32m----> 4\u001b[0;31m \u001b[0mtarget_tensor\u001b[0m \u001b[0;34m=\u001b[0m \u001b[0mtraining_pair\u001b[0m\u001b[0;34m[\u001b[0m\u001b[0;36m1\u001b[0m\u001b[0;34m]\u001b[0m\u001b[0;34m\u001b[0m\u001b[0m\n\u001b[0m\u001b[1;32m      5\u001b[0m \u001b[0;32mprint\u001b[0m\u001b[0;34m(\u001b[0m\u001b[0minput_tensor\u001b[0m\u001b[0;34m.\u001b[0m\u001b[0mshape\u001b[0m\u001b[0;34m)\u001b[0m\u001b[0;34m\u001b[0m\u001b[0m\n\u001b[1;32m      6\u001b[0m \u001b[0;32mprint\u001b[0m\u001b[0;34m(\u001b[0m\u001b[0mtarget_tensor\u001b[0m\u001b[0;34m.\u001b[0m\u001b[0mshape\u001b[0m\u001b[0;34m)\u001b[0m\u001b[0;34m\u001b[0m\u001b[0m\n",
      "\u001b[0;31mIndexError\u001b[0m: list index out of range"
     ]
    }
   ],
   "source": [
    "training_pairs = [get_source_target(i) for i in range(13228)]\n",
    "training_pair = tra[13229]\n",
    "input_tensor = training_pair[0]\n",
    "target_tensor = training_pair[1]\n",
    "print(input_tensor.shape)\n",
    "print(target_tensor.shape)"
   ]
  },
  {
   "cell_type": "code",
   "execution_count": 86,
   "metadata": {},
   "outputs": [
    {
     "data": {
      "text/plain": [
       "Text(0.5,1.05,u'Loss curve for Ender-Decoder architecture')"
      ]
     },
     "execution_count": 86,
     "metadata": {},
     "output_type": "execute_result"
    }
   ],
   "source": [
    "plt_loss = [6.94710739032993, 6.139858294696283, 6.461804585276898, 6.536206799992508, 6.685674444520324, 6.373748459275889, 5.922555854995499, 6.653567415187613, 6.30399375172313, 6.466309091751031, 6.372740593492709, 6.922924039710449, 6.098834015003968, 6.849843449647949, 6.855294610286794, 6.7453211992554625, 6.802329513200076, 6.449255983213936, 6.682626415165016, 6.4060630109164185, 6.6299963601024965, 6.789982279092084, 6.709445872096112, 6.514521597006644, 7.183025655588891, 6.905600674437871, 6.830957080177106, 6.59732552016655, 6.732748228780056, 6.291795782954331, 6.085468050428791, 6.328055061303153, 6.7273158810294635, 6.35268672493774, 6.465861165157443, 6.431174920198547, 6.338912208690736, 6.559346421069656, 6.407896386379176, 6.4978581595404785, 6.154743817322726, 6.378875143418513, 6.717904249363052, 6.98159639614943, 6.796304949950784, 6.225292253203849, 6.649223566624206, 6.310141054295798, 6.6570956249034134, 6.589642209580254, 6.3099708402025225, 5.591313724715328, 6.353971629387498, 6.666929803131471, 6.584683728103045, 6.762776139331285, 7.236614072837186, 6.756729846784455, 6.681973482607596, 6.413847853349467, 6.568357581366738, 6.029772186758285, 6.488591239416166, 7.038705739390597, 6.356290052588182, 6.742203493695033, 6.950748204263135, 6.947494322638861, 6.7334847881885835, 6.614450448802498, 6.66791578935887, 6.647181006905002, 6.8058954014064685, 7.561966250378692, 6.9113562844868595, 6.512459966820355, 6.725024547626, 6.60436262499076, 6.9103278723313215, 6.78127820483097, 6.933569145263649, 6.746349107801524, 6.847263997063485, 6.77652768007282, 6.664038922669198, 6.4655303822007575, 7.059781988017083, 6.785679811731736, 6.339695688323771, 6.642992276525715, 6.229122650076023, 6.616272164907156, 6.51950689872925, 6.567857651721544, 6.821968969850693, 6.7264443819632795, 6.390548675303815, 6.825550990841899, 6.959793106001755, 6.485100759087478, 7.257588410328717, 6.317689673097759, 6.4747215691951086, 6.483131404799979, 6.871793766736984, 6.780514576857534, 6.717987459502848, 6.554422915013259, 7.093053793124917, 6.693973005733165, 6.553635081123827, 6.828472715205816, 6.882965430326497, 6.13023586047721, 6.739642565865529, 6.3382274025884815, 5.969937975128495, 6.798067165458467, 6.226365377251528, 6.60953517942975, 6.801952267664641, 6.901095965588115, 6.87790882646246, 6.521543369574459, 6.596353981735425, 6.881275364579678, 6.754974272719454, 6.220643264438742, 6.486729228714568, 6.541163040003657, 6.463722524240064, 6.578284385972844, 7.961354583537354, 7.567724132106934, 7.153203168413018, 6.717108830873659, 7.069283112186539, 6.805175026250603, 7.240356463200986, 7.160312280575673, 6.437997172442352, 6.678887796192477, 6.791543568016478, 6.77759830439864, 6.502950289841018, 5.986891698837039, 6.32565651074456, 6.155137467357942, 5.693348801240894, 6.391734428807638, 6.698186737693558, 6.62402746144496, 6.372350268382673, 6.788021992746196, 6.634597261730285, 6.6107739128618315, 6.538785775690144, 6.774309674546729, 6.826336956931138, 6.953536406092503, 6.573256797780349, 6.629119688167936, 6.271801959151967, 6.556747471049001, 6.347326413850477, 6.386731004035506, 6.431742279921469, 6.568172880044411, 6.576985679895958, 7.225254865403573, 6.717621103196357, 6.31875971129006, 7.0117508491797995, 6.8639610206596355, 6.763610865145706, 6.470178579788318, 6.309863732468154, 6.836874012070048, 6.8332068436675515, 6.556269824635902, 7.436361503935234, 6.152275531689296, 6.855391010456734, 6.529560149067845, 6.376815811388987, 6.993457533964239, 6.08064186914115, 6.546763402950744, 6.847217265101878, 6.932996826386126, 6.270089527775147, 6.662703964439854, 6.210400503246051, 6.361114029495243, 6.241422941038602, 6.775851370932913, 6.444227126508659, 6.624845071199375, 6.428153180940869, 6.9321874044473795, 7.470104128015412, 6.8945804608724135, 6.3951184107354955, 6.530649353514433, 6.4796202159754674, 6.654751007831525, 6.769411604723228, 6.717064835484303, 6.606336189780125, 6.982407379357983, 6.938011470556805, 7.038306449873383, 6.760353461281594, 6.506474684676153, 7.062325157487663, 6.638207264895807, 6.248325291259228, 6.778468249270102, 6.489436780934173, 6.887901650608524, 6.372727364192887, 6.709179497178444, 6.513834998973887, 6.488486644426883, 6.87465392241333, 6.969075469176812, 6.29469289780678, 6.5638203704430955, 6.56524461709011, 6.983466432513563, 6.349304647424575, 5.998540926045078, 6.271909608687196, 6.738446271309437, 6.809442715647546, 7.0163211095897395, 6.531762745543541, 6.738467550339447, 6.906764883058804, 6.509702854917221, 6.589586899208894, 6.597207175920963, 6.784384066830918, 6.640888428291273, 7.241172158599145, 6.996498223480107, 6.73484784599689, 6.382327967580275, 6.593329814252226, 6.929445130442434, 6.991374778814955, 6.419015780848796, 6.977392983376282, 6.498090841349747, 6.227057934076503, 6.895048179058355, 6.5485349674389575, 6.419639414470712, 6.482722851184405, 6.369601737543053, 6.8680148115533886, 6.769833795396933, 6.376441683067105, 6.477527227050196, 6.556201763987202, 6.441602424505287, 6.830237094727441, 6.798933186356595, 6.9260930995697025, 6.74311146229639, 6.604954588619751, 6.881599993914397, 6.849338341455577, 6.3989736194851625, 6.59370771406468, 6.616338066421429, 6.573869717579795, 6.372728192916671, 6.569852253173943, 6.947427048976891, 6.858134193316101, 7.174698850643772, 6.241158505859662, 6.624560276697346, 6.821975662275621, 6.6052052931863185, 6.891963285821171, 6.385310218978054, 6.375315575891766, 6.57189288628447, 6.465181716160322, 6.798070021715241, 6.8561118553289395, 6.793864941513802, 6.8852384154890345, 6.619655781980139, 6.5442054906977525, 6.694200425046659, 7.228263164989576, 7.104252023852004, 7.280014609159528, 7.4939279681633435, 6.534159340067789, 7.092046035229124, 6.908995810128901, 6.403010812466652, 7.078624056087531, 6.554467508282577, 6.613213641671955, 6.471050858624686, 6.732979497411325, 6.819453863992071, 6.511892823618375, 7.037582334509427, 6.937174795502111, 6.2791123245953555, 6.663697880752482, 6.691650096856425, 6.720738241600441, 6.5554115368612464, 6.374723825729659, 6.642066574699262, 6.644235154977342, 6.543805507938429, 6.740731691234585, 7.103874536696676, 6.308970420400675, 6.875592274251099, 6.342310086287651, 6.712479889182316, 6.656251803608621, 6.711614036253873, 7.056452510599894, 6.6684231991398555, 6.971107082360987, 6.689229605714324, 6.867062617360884, 6.413059201523599, 6.554719605456162, 6.514337500377988, 6.821431333422145, 6.562218877707195, 6.865000730392957, 6.608899502991176, 6.514955662521985, 6.734065817666623, 6.643510637833592, 6.7811456139063955, 6.878653337341857, 6.793355169599031, 6.791947106922935, 6.401439008689696, 6.829577496682841, 6.3595342457678, 6.138831541443674, 6.7612474839813546, 6.973232318431955, 6.347403579776207, 6.567184886660515, 7.189913945726514, 6.40237761797297, 6.451484562386496, 6.637669915943081, 6.503654200652192, 6.267386441866113, 6.387939748890819, 6.867063097237743, 6.894636932177043, 6.770937711783137, 6.982268229380077, 6.554804226507452, 7.012403830034375, 6.441150557134976, 6.753661577753297, 6.542039398933045, 6.3611596562521076, 7.229291199558049, 6.771188970245696, 6.960259183220461, 6.481101810933103, 6.748330782010308, 6.791246725108855, 6.931764575548928, 6.792089524453001, 6.62358557333033, 6.483483286249307, 6.450576002430076, 6.4989366868917955, 6.76632628057346, 6.661341012754287, 6.4738303719257875, 6.231594342230588, 6.646381675739709, 6.944287456098562, 7.3575160836139775, 6.857743630659322, 6.993050542669576, 6.954650052798996, 7.231371630950252, 6.409884501031664, 6.993019681854025, 7.18141807495473, 6.835477782291808, 6.825253942348123, 7.066160294598152, 7.042017094877706, 6.748223583095612, 6.968834566851319, 7.000144240699013, 7.125111547586238, 6.743745827618046, 6.474974228273725, 6.915154555637083, 6.837432937349063, 6.95496552877446, 6.999440502125283, 6.750374232528543, 6.954355347135154, 6.732366146467935, 6.698728410456514, 6.6501064437282915, 7.300067049002865, 7.1986243280547635, 6.865228868511597, 6.510359657147335, 6.304917940436993, 6.956322217826323, 7.170542306738398, 6.944330117160647, 6.904687048482285, 7.118136143258795, 6.925036708473346, 6.762412356928654, 7.024833348264399, 6.653935987370512, 6.976045310374714, 7.103456583428286, 6.7894648666734705, 6.911300130005556, 6.931219908156321, 6.904336576183485, 7.557437889934136, 7.081134975600724, 6.987202423801449, 6.6307740786662475, 7.138448598414431, 6.915097826275774, 6.540370768359541, 6.663528549508669, 7.085737971436825, 6.76683520278652, 6.981867424870751, 6.773173204391919, 6.76923015575812, 7.001850513861776, 7.000873900720976, 6.973164106024308, 6.983153095891963, 6.815219355655561, 7.107631715891397, 6.658758475147287, 6.679424596436021, 6.590628735236503, 6.318908505462753, 7.408355935633713, 6.88473816378489, 6.501262117172679, 6.512915221042351, 6.667629349683392, 7.315880077997896, 6.4705203461888825, 6.553002054351435, 6.949813948890806, 6.80202000266355, 6.9041815525419885, 6.293317428166281, 6.556853154286698, 7.043216117701503, 7.138835685826741, 6.74611151043417, 6.693297618720263, 7.115392620642596, 7.6563837849434, 7.571603073889853, 7.2791457545753095, 6.807896466721482, 6.538834483487046, 6.00186218357877, 6.56201045573107, 6.624534111683146, 6.589783453648838, 6.933298109863079, 6.168583589928253, 6.778020670247048, 6.541467150916076, 6.87460666004127, 6.832831295414073, 6.729433838960317, 6.35120638206729, 6.358958540460693]\n",
    "#44 sentences, 0.01 lr, adam, shape same, epoch 500, sentences 100, loss zigzag ## WITHOUT PRETRAINING\n",
    "plt.plot(plt_loss)\n",
    "plt.xlabel('Number of Epochs')\n",
    "plt.ylabel('NLLLoss Value')\n",
    "plt.title('Loss curve for Ender-Decoder architecture')"
   ]
  },
  {
   "cell_type": "code",
   "execution_count": 87,
   "metadata": {},
   "outputs": [
    {
     "name": "stdout",
     "output_type": "stream",
     "text": [
      "[6.94710739032993, 6.139858294696283, 6.461804585276898, 6.536206799992508, 6.685674444520324, 6.373748459275889, 5.922555854995499, 6.653567415187613, 6.30399375172313, 6.466309091751031, 6.372740593492709, 6.922924039710449, 6.098834015003968, 6.849843449647949, 6.855294610286794, 6.7453211992554625, 6.802329513200076, 6.449255983213936, 6.682626415165016, 6.4060630109164185, 6.6299963601024965, 6.789982279092084, 6.709445872096112, 6.514521597006644, 7.183025655588891, 6.905600674437871, 6.830957080177106, 6.59732552016655, 6.732748228780056, 6.291795782954331, 6.085468050428791, 6.328055061303153, 6.7273158810294635, 6.35268672493774, 6.465861165157443, 6.431174920198547, 6.338912208690736, 6.559346421069656, 6.407896386379176, 6.4978581595404785, 6.154743817322726, 6.378875143418513, 6.717904249363052, 6.98159639614943, 6.796304949950784, 6.225292253203849, 6.649223566624206, 6.310141054295798, 6.6570956249034134, 6.589642209580254, 6.3099708402025225, 5.591313724715328, 6.353971629387498, 6.666929803131471, 6.584683728103045, 6.762776139331285, 7.236614072837186, 6.756729846784455, 6.681973482607596, 6.413847853349467, 6.568357581366738, 6.029772186758285, 6.488591239416166, 7.038705739390597, 6.356290052588182, 6.742203493695033, 6.950748204263135, 6.947494322638861, 6.7334847881885835, 6.614450448802498, 6.66791578935887, 6.647181006905002, 6.8058954014064685, 7.561966250378692, 6.9113562844868595, 6.512459966820355, 6.725024547626, 6.60436262499076, 6.9103278723313215, 6.78127820483097, 6.933569145263649, 6.746349107801524, 6.847263997063485, 6.77652768007282, 6.664038922669198, 6.4655303822007575, 7.059781988017083, 6.785679811731736, 6.339695688323771, 6.642992276525715, 6.229122650076023, 6.616272164907156, 6.51950689872925, 6.567857651721544, 6.821968969850693, 6.7264443819632795, 6.390548675303815, 6.825550990841899, 6.959793106001755, 6.485100759087478, 7.257588410328717, 6.317689673097759, 6.4747215691951086, 6.483131404799979, 6.871793766736984, 6.780514576857534, 6.717987459502848, 6.554422915013259, 7.093053793124917, 6.693973005733165, 6.553635081123827, 6.828472715205816, 6.882965430326497, 6.13023586047721, 6.739642565865529, 6.3382274025884815, 5.969937975128495, 6.798067165458467, 6.226365377251528, 6.60953517942975, 6.801952267664641, 6.901095965588115, 6.87790882646246, 6.521543369574459, 6.596353981735425, 6.881275364579678, 6.754974272719454, 6.220643264438742, 6.486729228714568, 6.541163040003657, 6.463722524240064, 6.578284385972844, 7.961354583537354, 7.567724132106934, 7.153203168413018, 6.717108830873659, 7.069283112186539, 6.805175026250603, 7.240356463200986, 7.160312280575673, 6.437997172442352, 6.678887796192477, 6.791543568016478, 6.77759830439864, 6.502950289841018, 5.986891698837039, 6.32565651074456, 6.155137467357942, 5.693348801240894, 6.391734428807638, 6.698186737693558, 6.62402746144496, 6.372350268382673, 6.788021992746196, 6.634597261730285, 6.6107739128618315, 6.538785775690144, 6.774309674546729, 6.826336956931138, 6.953536406092503, 6.573256797780349, 6.629119688167936, 6.271801959151967, 6.556747471049001, 6.347326413850477, 6.386731004035506, 6.431742279921469, 6.568172880044411, 6.576985679895958, 7.225254865403573, 6.717621103196357, 6.31875971129006, 7.0117508491797995, 6.8639610206596355, 6.763610865145706, 6.470178579788318, 6.309863732468154, 6.836874012070048, 6.8332068436675515, 6.556269824635902, 7.436361503935234, 6.152275531689296, 6.855391010456734, 6.529560149067845, 6.376815811388987, 6.993457533964239, 6.08064186914115, 6.546763402950744, 6.847217265101878, 6.932996826386126, 6.270089527775147, 6.662703964439854, 6.210400503246051, 6.361114029495243, 6.241422941038602, 6.775851370932913, 6.444227126508659, 6.624845071199375, 6.428153180940869, 6.9321874044473795, 7.470104128015412, 6.8945804608724135, 6.3951184107354955, 6.530649353514433, 6.4796202159754674, 6.654751007831525, 6.769411604723228, 6.717064835484303, 6.606336189780125, 6.982407379357983, 6.938011470556805, 7.038306449873383, 6.760353461281594, 6.506474684676153, 7.062325157487663, 6.638207264895807, 6.248325291259228, 6.778468249270102, 6.489436780934173, 6.887901650608524, 6.372727364192887, 6.709179497178444, 6.513834998973887, 6.488486644426883, 6.87465392241333, 6.969075469176812, 6.29469289780678, 6.5638203704430955, 6.56524461709011, 6.983466432513563, 6.349304647424575, 5.998540926045078, 6.271909608687196, 6.738446271309437, 6.809442715647546, 7.0163211095897395, 6.531762745543541, 6.738467550339447, 6.906764883058804, 6.509702854917221, 6.589586899208894, 6.597207175920963, 6.784384066830918, 6.640888428291273, 7.241172158599145, 6.996498223480107, 6.73484784599689, 6.382327967580275, 6.593329814252226, 6.929445130442434, 6.991374778814955, 6.419015780848796, 6.977392983376282, 6.498090841349747, 6.227057934076503, 6.895048179058355, 6.5485349674389575, 6.419639414470712, 6.482722851184405, 6.369601737543053, 6.8680148115533886, 6.769833795396933, 6.376441683067105, 6.477527227050196, 6.556201763987202, 6.441602424505287, 6.830237094727441, 6.798933186356595, 6.9260930995697025, 6.74311146229639, 6.604954588619751, 6.881599993914397, 6.849338341455577, 6.3989736194851625, 6.59370771406468, 6.616338066421429, 6.573869717579795, 6.372728192916671, 6.569852253173943, 6.947427048976891, 6.858134193316101, 7.174698850643772, 6.241158505859662, 6.624560276697346, 6.821975662275621, 6.6052052931863185, 6.891963285821171, 6.385310218978054, 6.375315575891766, 6.57189288628447, 6.465181716160322, 6.798070021715241, 6.8561118553289395, 6.793864941513802, 6.8852384154890345, 6.619655781980139, 6.5442054906977525, 6.694200425046659, 7.228263164989576, 7.104252023852004, 7.280014609159528, 7.4939279681633435, 6.534159340067789, 7.092046035229124, 6.908995810128901, 6.403010812466652, 7.078624056087531, 6.554467508282577, 6.613213641671955, 6.471050858624686, 6.732979497411325, 6.819453863992071, 6.511892823618375, 7.037582334509427, 6.937174795502111, 6.2791123245953555, 6.663697880752482, 6.691650096856425, 6.720738241600441, 6.5554115368612464, 6.374723825729659, 6.642066574699262, 6.644235154977342, 6.543805507938429, 6.740731691234585, 7.103874536696676, 6.308970420400675, 6.875592274251099, 6.342310086287651, 6.712479889182316, 6.656251803608621, 6.711614036253873, 7.056452510599894, 6.6684231991398555, 6.971107082360987, 6.689229605714324, 6.867062617360884, 6.413059201523599, 6.554719605456162, 6.514337500377988, 6.821431333422145, 6.562218877707195, 6.865000730392957, 6.608899502991176, 6.514955662521985, 6.734065817666623, 6.643510637833592, 6.7811456139063955, 6.878653337341857, 6.793355169599031, 6.791947106922935, 6.401439008689696, 6.829577496682841, 6.3595342457678, 6.138831541443674, 6.7612474839813546, 6.973232318431955, 6.347403579776207, 6.567184886660515, 7.189913945726514, 6.40237761797297, 6.451484562386496, 6.637669915943081, 6.503654200652192, 6.267386441866113, 6.387939748890819, 6.867063097237743, 6.894636932177043, 6.770937711783137, 6.982268229380077, 6.554804226507452, 7.012403830034375, 6.441150557134976, 6.753661577753297, 6.542039398933045, 6.3611596562521076, 7.229291199558049, 6.771188970245696, 6.960259183220461, 6.481101810933103, 6.748330782010308, 6.791246725108855, 6.931764575548928, 6.792089524453001, 6.62358557333033, 6.483483286249307, 6.450576002430076, 6.4989366868917955, 6.76632628057346, 6.661341012754287, 6.4738303719257875, 6.231594342230588, 6.646381675739709, 6.944287456098562, 7.3575160836139775, 6.857743630659322, 6.993050542669576, 6.954650052798996, 7.231371630950252, 6.409884501031664, 6.993019681854025, 7.18141807495473, 6.835477782291808, 6.825253942348123, 7.066160294598152, 7.042017094877706, 6.748223583095612, 6.968834566851319, 7.000144240699013, 7.125111547586238, 6.743745827618046, 6.474974228273725, 6.915154555637083, 6.837432937349063, 6.95496552877446, 6.999440502125283, 6.750374232528543, 6.954355347135154, 6.732366146467935, 6.698728410456514, 6.6501064437282915, 7.300067049002865, 7.1986243280547635, 6.865228868511597, 6.510359657147335, 6.304917940436993, 6.956322217826323, 7.170542306738398, 6.944330117160647, 6.904687048482285, 7.118136143258795, 6.925036708473346, 6.762412356928654, 7.024833348264399, 6.653935987370512, 6.976045310374714, 7.103456583428286, 6.7894648666734705, 6.911300130005556, 6.931219908156321, 6.904336576183485, 7.557437889934136, 7.081134975600724, 6.987202423801449, 6.6307740786662475, 7.138448598414431, 6.915097826275774, 6.540370768359541, 6.663528549508669, 7.085737971436825, 6.76683520278652, 6.981867424870751, 6.773173204391919, 6.76923015575812, 7.001850513861776, 7.000873900720976, 6.973164106024308, 6.983153095891963, 6.815219355655561, 7.107631715891397, 6.658758475147287, 6.679424596436021, 6.590628735236503, 6.318908505462753, 7.408355935633713, 6.88473816378489, 6.501262117172679, 6.512915221042351, 6.667629349683392, 7.315880077997896, 6.4705203461888825, 6.553002054351435, 6.949813948890806, 6.80202000266355, 6.9041815525419885, 6.293317428166281, 6.556853154286698, 7.043216117701503, 7.138835685826741, 6.74611151043417, 6.693297618720263, 7.115392620642596, 7.6563837849434, 7.571603073889853, 7.2791457545753095, 6.807896466721482, 6.538834483487046, 6.00186218357877, 6.56201045573107, 6.624534111683146, 6.589783453648838, 6.933298109863079, 6.168583589928253, 6.778020670247048, 6.541467150916076, 6.87460666004127, 6.832831295414073, 6.729433838960317, 6.35120638206729, 6.358958540460693]\n"
     ]
    },
    {
     "data": {
      "text/plain": [
       "[<matplotlib.lines.Line2D at 0x7ff35a7f56d0>]"
      ]
     },
     "execution_count": 87,
     "metadata": {},
     "output_type": "execute_result"
    }
   ],
   "source": [
    "print(plt_loss)\n",
    "#44 sentences, 0.01 lr, adam, shape same, epoch 500, sentences 100, loss zigzag ## WITHOUT PRETRAINING\n",
    "plt.plot(plt_loss)"
   ]
  },
  {
   "cell_type": "code",
   "execution_count": 62,
   "metadata": {},
   "outputs": [
    {
     "name": "stdout",
     "output_type": "stream",
     "text": [
      "[4.778003598220103, 3.63999743798997, 3.79804478860218, 3.5465842641482617, 3.2526754403378972, 3.494275049587893, 3.0171227766535877, 3.0713673143339584, 3.452485509962594, 3.1257733138617154, 2.9186282931798826, 2.870388975504994, 2.9389705397845147, 3.052896449785645, 2.8913774976283393, 2.684959001572201, 2.6046544602133985, 2.907523517528278, 2.6095818878367156, 2.8264831148687057, 2.7023126079435342, 2.5363673054901894, 2.8238848371045693, 2.422664249796967, 2.46746290808691, 2.4964034721732773, 2.6209206203570057, 2.1824362159159287, 2.3078979838410008, 2.132668973139325, 2.369281379431281, 2.1263606409177203, 2.269531150962126, 2.2478860337744155, 2.3562879754537764, 2.42275329482936, 2.240367239841026, 1.8447799302432446, 2.4277890286922577, 2.014547885696705, 2.190280765914146, 2.013672243034856, 1.9688296000944123, 1.936697132915901, 2.1374472936576256, 2.227222639439181, 2.241796503249412, 2.2206267746318256, 2.300666417749448, 2.1527743633180125, 2.1946475113501234, 1.8459468842072804, 2.118187603047312, 1.9465333400433256, 1.9623687996693147, 2.2694444037682033, 2.3888758986017478, 2.264090678185708, 2.109880341380934, 1.9981032327069497, 1.7922810152477708, 1.7738765136311592, 2.244064541522008, 2.083478000383654, 1.6051881705561908, 2.2243052610012803, 1.6942480169528147, 1.8355245826780864, 1.958609537678283, 1.8861170229216546, 2.1585138356531677, 1.777025367409627, 1.7811173637113185, 1.6973349871128258, 1.879689867169969, 1.611881795428092, 1.727332999630762, 1.7385523860196406, 1.9086395398643565, 1.9702039340915578, 1.8779575215845683, 1.6493358241510954, 1.538360673182307, 1.7073490052365494, 1.6783185700967842, 1.860065472712586, 1.6142564377372983, 1.444842134009026, 2.0275918224229805, 1.7020921245621472, 1.7410824022892482, 1.6547422868104358, 1.7824971026949379, 1.7264244191855547, 1.8836151220960642, 1.7422562064747027, 1.809385503043695, 1.6420410540894446, 1.6783504149669957, 1.448061853874959]\n"
     ]
    },
    {
     "data": {
      "text/plain": [
       "Text(0.5,1,u'Encoder-Decoder Combined loss curve')"
      ]
     },
     "execution_count": 62,
     "metadata": {},
     "output_type": "execute_result"
    },
    {
     "data": {
      "image/png": "[encoded data removed]",
      "text/plain": [
       "<Figure size 432x288 with 1 Axes>"
      ]
     },
     "metadata": {
      "needs_background": "light"
     },
     "output_type": "display_data"
    }
   ],
   "source": [
    "print(plt_loss)\n",
    "#44 sentences, 0.001 lr, adam, shape same, epoch 100, sentences 100, loss 4.7 to 1.6 ## WITH PRETRAINING\n",
    "plt.plot(plt_loss)\n",
    "plt.xlabel('Epochs')\n",
    "plt.ylabel('NLLLoss')\n",
    "plt.title('Encoder-Decoder Combined loss curve')"
   ]
  },
  {
   "cell_type": "code",
   "execution_count": 112,
   "metadata": {},
   "outputs": [
    {
     "name": "stdout",
     "output_type": "stream",
     "text": [
      "[4.723870254214848, 4.191029266741442, 3.906103208263515, 3.7954641934000466, 3.4636422011903476, 3.3927079479057545, 3.23530555914825, 3.227974128795466, 3.0791040313884803, 3.0933658107183803, 3.0554143966959133, 2.952217607014004, 2.9894677699425647, 2.9956909249621755, 2.9047184713959466, 2.8600934171003303, 2.903451263441562, 2.9131505176454455, 2.8419718270946404, 2.775005655598828, 2.801243263335161, 2.7799463678084333, 2.896516859313195, 2.7151675617742317, 2.7281381660788004, 2.607414012526558, 2.6429898757402905, 2.6400835660448774, 2.698896511886822, 2.5863039805692023, 2.625263578070632, 2.7004775932754654, 2.6411976161422155, 2.494176101181339, 2.731807458313645, 2.6241944967141824, 2.5896771099045934, 2.6454252595819265, 2.5669186313619297, 2.5660522640665846, 2.697803275436203, 2.557074835772231, 2.446983807526843, 2.711878206267767, 2.64104762268243, 2.635120347873953, 2.6126389974771858, 2.589933118520693, 2.5955682338464987, 2.5629093085791204, 2.5516965034071473, 2.5914308212456905, 2.4999692132077307, 2.4664178048916714, 2.4927915041952047, 2.5757558618336343, 2.496041170767947, 2.425500148837911, 2.5181701268261234, 2.5422318572748757, 2.3780423063893514, 2.3423723609556797, 2.4442901223573847, 2.3721815615832256, 2.4723183253360004, 2.3481429603734707, 2.323855455695006, 2.3225756400455184, 2.4492561249739695, 2.4228225863036066, 2.36040078479725, 2.4616460805896203, 2.4004178976978867, 2.3402024570961575, 2.3323559580850515, 2.1937998113571258, 2.4163490188067085, 2.4252112104358563, 2.554311568617027, 2.2929720749909266, 2.3078364507423488, 2.3079256698193245, 2.325969211242026, 2.3397331079409143, 2.391422043276847, 2.2773135859194675, 2.382507857002235, 2.288631382247921, 2.270571262484066, 2.246843711724678, 2.3308633845142865, 2.425139557096715, 2.3905414326699503, 2.4343567457381954, 2.272834966327283, 2.297212279277066, 2.222225997041663, 2.259111619476296, 2.235457339393858, 2.280603626200172]\n"
     ]
    },
    {
     "data": {
      "text/plain": [
       "Text(0.5,1,u'Encoder-Decoder Combined loss curve')"
      ]
     },
     "execution_count": 112,
     "metadata": {},
     "output_type": "execute_result"
    },
    {
     "data": {
      "image/png": "[encoded data removed]",
      "text/plain": [
       "<Figure size 432x288 with 1 Axes>"
      ]
     },
     "metadata": {
      "needs_background": "light"
     },
     "output_type": "display_data"
    }
   ],
   "source": [
    "print(plt_loss)\n",
    "#44 sentences, 0.001 lr, adam, shape same, epoch 100, sentences 800, loss 4.7 to 2.3 ## WITH PRETRAINING, ADAM #025_v2\n",
    "plt.plot(plt_loss)\n",
    "plt.xlabel('Epochs')\n",
    "plt.ylabel('NLLLoss')\n",
    "plt.title('Encoder-Decoder Combined loss curve')"
   ]
  },
  {
   "cell_type": "code",
   "execution_count": null,
   "metadata": {},
   "outputs": [],
   "source": [
    "x = get_sentence_data()"
   ]
  },
  {
   "cell_type": "code",
   "execution_count": 202,
   "metadata": {},
   "outputs": [],
   "source": [
    "ei = 0\n",
    "ENCODER_WINDOW = 10\n",
    "encoder = torch.load('pretrained_274_v1')\n",
    "encoder_hidden = encoder.initHidden()\n",
    "with torch.no_grad():\n",
    "    encoder_output1, encoder_hidden = encoder(training_pairs[1][0][ei:ei+ENCODER_WINDOW], encoder_hidden)\n",
    "    ei = 4\n",
    "    encoder_output2, encoder_hidden = encoder(training_pairs[1][0][ei:ei+ENCODER_WINDOW], encoder_hidden)\n",
    "    ei = 4\n",
    "    encoder_output3, encoder_hidden = encoder(training_pairs[1][0][ei:ei+ENCODER_WINDOW], encoder_hidden)"
   ]
  },
  {
   "cell_type": "code",
   "execution_count": 203,
   "metadata": {},
   "outputs": [
    {
     "name": "stdout",
     "output_type": "stream",
     "text": [
      "tensor(3335.2637, device='cuda:0')\n",
      "tensor(3406.2720, device='cuda:0')\n"
     ]
    }
   ],
   "source": [
    "print(torch.dist(encoder_output1,encoder_output2))\n",
    "print(torch.dist(encoder_output1,encoder_output3))"
   ]
  },
  {
   "cell_type": "code",
   "execution_count": 96,
   "metadata": {},
   "outputs": [
    {
     "name": "stdout",
     "output_type": "stream",
     "text": [
      "tensor([[206.7770, 196.1540, 196.5970,  ..., 302.0320, 295.4680, 322.8660],\n",
      "        [202.2420, 150.3320, 169.6880,  ..., 302.9280, 296.7430, 325.4560],\n",
      "        [167.6720, 147.7980, 165.8230,  ..., 304.0680, 296.7880, 326.7850],\n",
      "        ...,\n",
      "        [247.3250, 210.8560, 244.7200,  ..., 298.9110, 294.1600, 320.2950],\n",
      "        [283.6340, 206.0550, 239.1560,  ..., 299.0650, 294.1780, 320.3060],\n",
      "        [204.3270, 252.8650, 269.9340,  ..., 299.2700, 295.4240, 321.5640]],\n",
      "       device='cuda:0')\n"
     ]
    }
   ],
   "source": [
    "print(training_pairs[0][0])"
   ]
  },
  {
   "cell_type": "code",
   "execution_count": null,
   "metadata": {},
   "outputs": [],
   "source": []
  }
 ],
 "metadata": {
  "kernelspec": {
   "display_name": "Python 2",
   "language": "python",
   "name": "python2"
  },
  "language_info": {
   "codemirror_mode": {
    "name": "ipython",
    "version": 2
   },
   "file_extension": ".py",
   "mimetype": "text/x-python",
   "name": "python",
   "nbconvert_exporter": "python",
   "pygments_lexer": "ipython2",
   "version": "2.7.15rc1"
  }
 },
 "nbformat": 4,
 "nbformat_minor": 2
}
