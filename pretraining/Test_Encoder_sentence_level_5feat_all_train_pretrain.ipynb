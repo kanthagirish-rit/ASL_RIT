{
 "cells": [
  {
   "cell_type": "code",
   "execution_count": 1,
   "metadata": {},
   "outputs": [
    {
     "name": "stdout",
     "output_type": "stream",
     "text": [
      "cuda\n"
     ]
    }
   ],
   "source": [
    "from __future__ import unicode_literals, print_function, division\n",
    "from io import open\n",
    "import unicodedata\n",
    "import string\n",
    "import re\n",
    "import random\n",
    "\n",
    "import torch\n",
    "import torch.nn as nn\n",
    "from torch import optim\n",
    "import torch.nn.functional as F\n",
    "import numpy as np\n",
    "import pickle\n",
    "import random\n",
    "import matplotlib.pyplot as plt\n",
    "\n",
    "device = torch.device(\"cuda\" if torch.cuda.is_available() else \"cpu\")\n",
    "print(device)\n",
    "# device = \"cpu\""
   ]
  },
  {
   "cell_type": "code",
   "execution_count": 2,
   "metadata": {},
   "outputs": [],
   "source": [
    "import time\n",
    "import math\n",
    "\n",
    "\n",
    "def asMinutes(s):\n",
    "    m = math.floor(s / 60)\n",
    "    s -= m * 60\n",
    "    return '%dm %ds' % (m, s)\n",
    "\n",
    "\n",
    "def timeSince(since, percent):\n",
    "    now = time.time()\n",
    "    s = now - since\n",
    "    es = s / (percent)\n",
    "    rs = es - s\n",
    "    return '%s (- %s)' % (asMinutes(s), asMinutes(rs))\n",
    "\n",
    "import matplotlib.pyplot as plt\n",
    "plt.switch_backend('agg')\n",
    "import matplotlib.ticker as ticker\n",
    "import numpy as np\n",
    "\n",
    "\n",
    "def showPlot(points):\n",
    "    plt.figure()\n",
    "    fig, ax = plt.subplots()\n",
    "    # this locator puts ticks at regular intervals\n",
    "#     loc = ticker.MultipleLocator(base=0.2)\n",
    "#     ax.yaxis.set_major_locator(loc)\n",
    "    plt.plot(points)"
   ]
  },
  {
   "cell_type": "code",
   "execution_count": 3,
   "metadata": {},
   "outputs": [
    {
     "name": "stdout",
     "output_type": "stream",
     "text": [
      "Shape :  (44, 2)\n"
     ]
    }
   ],
   "source": [
    "sentence_data = np.load('pretrain_sentence_frame_mapped_5.npy')\n",
    "\n",
    "print(\"Shape : \", sentence_data.shape)"
   ]
  },
  {
   "cell_type": "code",
   "execution_count": 4,
   "metadata": {},
   "outputs": [
    {
     "name": "stdout",
     "output_type": "stream",
     "text": [
      "(12485, 5)\n"
     ]
    }
   ],
   "source": [
    "# print(sentence_data[1])\n",
    "print(sentence_data[0, 0].shape)"
   ]
  },
  {
   "cell_type": "code",
   "execution_count": 14,
   "metadata": {},
   "outputs": [
    {
     "name": "stdout",
     "output_type": "stream",
     "text": [
      "(44, 2)\n"
     ]
    }
   ],
   "source": [
    "print(sentence_data.shape)\n",
    "\n",
    "def get_sentence_data(num,n_data_pts):\n",
    "    num = num%n_data_pts\n",
    "#     num = num%sentence_data.shape[0]\n",
    "    return [torch.FloatTensor(sentence_data[num][0]).to(device), sentence_data[num][1]]\n",
    "#     return [torch.FloatTensor(sentence_data[1][0]).to(device), sentence_data[1][1]]\n",
    "# print(get_sentence_data(0))"
   ]
  },
  {
   "cell_type": "code",
   "execution_count": 25,
   "metadata": {},
   "outputs": [
    {
     "name": "stdout",
     "output_type": "stream",
     "text": [
      "10.0\n"
     ]
    }
   ],
   "source": [
    "print(sentence_data[0,0].max())"
   ]
  },
  {
   "cell_type": "code",
   "execution_count": 15,
   "metadata": {},
   "outputs": [],
   "source": [
    "window_length = 10\n",
    "MAX_LENGTH = 10"
   ]
  },
  {
   "cell_type": "code",
   "execution_count": 28,
   "metadata": {},
   "outputs": [],
   "source": [
    "class EncoderRNN(nn.Module):\n",
    "    def __init__(self, input_size, hidden_size):\n",
    "        super(EncoderRNN, self).__init__()\n",
    "        self.hidden_size = hidden_size # hidden size is 10 [10 frames]\n",
    "\n",
    "        #self.gru = nn.GRU(input_size, 5, hidden_size)\n",
    "        self.gru = nn.GRU(input_size, hidden_size)\n",
    "        self.bn1 = nn.BatchNorm1d(1)\n",
    "        self.linear1 = nn.Linear(hidden_size,10)\n",
    "        self.bn2 = nn.BatchNorm1d(1)\n",
    "        self.linear3 = nn.Linear(10,10)\n",
    "        self.bn3 = nn.BatchNorm1d(1)\n",
    "        self.linear2 = nn.Linear(10,hidden_size)\n",
    "        self.out = nn.Linear(hidden_size, input_size)\n",
    "        \n",
    "    def forward(self, input, hidden):\n",
    "#         print(input.shape)\n",
    "        #input = torch.unsqueeze(input,0)\n",
    "        embedded = torch.unsqueeze(input,1)\n",
    "        output = embedded\n",
    "        \n",
    "#         print(output.shape)\n",
    "#         print(hidden.shape)\n",
    "        output, hidden = self.gru(output, hidden)\n",
    "#         print(\"Hidden - \",hidden.shape)\n",
    "        \n",
    "        hidden = self.bn1(hidden)\n",
    "        hidden = F.relu(hidden)\n",
    "    \n",
    "        temp = self.linear1(hidden)\n",
    "        \n",
    "        temp = self.bn2(temp)\n",
    "        temp = F.relu(temp)\n",
    "#         print('Temp - ',temp.shape)\n",
    "        temp = self.linear3(temp)\n",
    "        \n",
    "        temp = self.bn3(temp)\n",
    "        temp = F.relu(temp)\n",
    "    \n",
    "        temp = self.linear2(temp)\n",
    "#         print('Updated temp - ',temp.shape)\n",
    "        hidden = temp\n",
    "        output = self.out(output)\n",
    "        return output, hidden\n",
    "\n",
    "    def initHidden(self):\n",
    "        return torch.zeros(1, 1, self.hidden_size, device=device)\n",
    "        temp = self.linear2(temp)\n",
    "#         print('Updated temp - ',temp.shape)\n",
    "        hidden = temp\n",
    "        return output, hidden\n",
    "\n",
    "    def initHidden(self):\n",
    "        return torch.zeros(1, 1, self.hidden_size, device=device)"
   ]
  },
  {
   "cell_type": "code",
   "execution_count": 17,
   "metadata": {},
   "outputs": [],
   "source": [
    "def adjust_learning_rate(optimizer, epoch):\n",
    "    \"\"\"Sets the learning rate to the initial LR decayed by 10 every 15 epochs\"\"\"\n",
    "    if epoch <= 10:\n",
    "        lr = 0.01\n",
    "    elif epoch <= 20:\n",
    "        lr = 0.001\n",
    "    elif epoch <= 25:\n",
    "        lr = 0.0001\n",
    "    elif epoch <=35:\n",
    "        lr = 0.00001\n",
    "    else:\n",
    "        lr = 0.01\n",
    "    for param_group in optimizer.param_groups:\n",
    "        param_group['lr'] = lr\n",
    "    return lr"
   ]
  },
  {
   "cell_type": "code",
   "execution_count": 32,
   "metadata": {},
   "outputs": [],
   "source": [
    "def trainIters(encoder, n_iters,n_data_pts, print_every=10, plot_every=10, learning_rate=0.01):\n",
    "    start = time.time()\n",
    "    plot_losses = []\n",
    "    print_loss_total = 0  # Reset every print_every\n",
    "    plot_loss_total = 0  # Reset every plot_every\n",
    "    \n",
    "#     n_data_pts = n_iters\n",
    "#     n_iters = 300\n",
    "    encoder_optimizer = optim.Adam(encoder.parameters(), lr=learning_rate)\n",
    "    training_pairs = np.array([get_sentence_data(i,n_data_pts) for i in range(n_data_pts)])\n",
    "    randomselect = random.sample(range(training_pairs.shape[0]),training_pairs.shape[0])\n",
    "    training_pairs = training_pairs[randomselect]\n",
    "    criterion = nn.L1Loss()\n",
    "    iter_loss = []\n",
    "    \n",
    "    best_loss = np.inf\n",
    "    for i in range(1,n_iters+1):\n",
    "        lr = adjust_learning_rate(encoder_optimizer,i)\n",
    "        print('Learning Rate: ', lr)\n",
    "        for iter in range(1, n_data_pts + 1):\n",
    "    #         if iter == 2:\n",
    "    #             break\n",
    "            training_pair = training_pairs[iter-1]\n",
    "            input_tensor = training_pair[0]\n",
    "    #         print(input_tensor.shape)\n",
    "            target_tensor = training_pair[1]\n",
    "            if input_tensor.size(0) < 21:\n",
    "                pass\n",
    "            else:\n",
    "                loss = train(input_tensor, target_tensor, encoder,\n",
    "                              encoder_optimizer,  criterion)\n",
    "                print_loss_total += loss\n",
    "                plot_loss_total += loss\n",
    "        \n",
    "        print_loss_total = print_loss_total / n_data_pts\n",
    "        plot_loss_total = plot_loss_total / n_data_pts\n",
    "        \n",
    "        \n",
    "        if i % print_every == 0:\n",
    "            print_loss_avg = print_loss_total #/ print_every\n",
    "            print_loss_total = 0\n",
    "            print('%s (%d %d%%) %.4f' % (timeSince(start, i / (n_iters)),\n",
    "                                         i, i / (n_iters) * 100, print_loss_avg))\n",
    "        \n",
    "        if i % plot_every == 0:\n",
    "            plot_loss_avg = plot_loss_total #/ plot_every\n",
    "            iter_loss.append(plot_loss_avg)\n",
    "            plot_loss_total = 0\n",
    "        if print_loss_total < best_loss:\n",
    "            best_loss = print_loss_total\n",
    "            torch.save(encoder1, 'pretrained_155_f5_v2.pt')\n",
    "\n",
    "    showPlot(iter_loss)\n",
    "    \n",
    "    return iter_loss"
   ]
  },
  {
   "cell_type": "code",
   "execution_count": 30,
   "metadata": {},
   "outputs": [],
   "source": [
    "teacher_forcing_ratio = 0.5\n",
    "\n",
    "\n",
    "def train(input_tensor, target_tensor, encoder, encoder_optimizer, criterion, max_length=MAX_LENGTH):\n",
    "    encoder_hidden = encoder.initHidden()\n",
    "    \n",
    "    ENCODER_WINDOW = 10\n",
    "    ENCODER_SLIDE = 10 # previously 1\n",
    "    \n",
    "    encoder_optimizer.zero_grad()\n",
    "\n",
    "    input_length = input_tensor.size(0)\n",
    "#     print(\"Input Length: \",input_length)\n",
    "    target_length = input_length\n",
    "\n",
    "    encoder_outputs = torch.zeros(max_length, encoder.hidden_size, device=device)\n",
    "\n",
    "    loss = 0\n",
    "#     print(\"-----\",input_tensor.shape)\n",
    "    for ei in range(0,input_length,ENCODER_SLIDE):\n",
    "        if ei < input_length-(ENCODER_WINDOW+ENCODER_SLIDE): # input_length-11:\n",
    "#             print(ei,'-',ei+ENCODER_WINDOW)\n",
    "            encoder_output, encoder_hidden = encoder(input_tensor[ei:ei+ENCODER_WINDOW], encoder_hidden)\n",
    "            encoder_output = torch.squeeze(encoder_output)\n",
    "#             print(encoder_hidden)\n",
    "            #print(encoder_output.data.shape)\n",
    "            #print(input_tensor[ei+ENCODER_SLIDE:ei+ENCODER_SLIDE+ENCODER_WINDOW].shape)\n",
    "    \n",
    "    #         encoder_outputs[ei] = encoder_output[0, 0]\n",
    "            loss += criterion(encoder_output, input_tensor[ei+ENCODER_SLIDE:ei+ENCODER_SLIDE+ENCODER_WINDOW])\n",
    "#             ei+=ENCODER_SLIDE\n",
    "#     print(loss)\n",
    "    loss.backward()\n",
    "\n",
    "    encoder_optimizer.step()\n",
    "    \n",
    "    return loss.item() / target_length"
   ]
  },
  {
   "cell_type": "code",
   "execution_count": 33,
   "metadata": {},
   "outputs": [
    {
     "name": "stdout",
     "output_type": "stream",
     "text": [
      "Learning Rate:  0.01\n",
      "1m 31s (- 74m 42s) (1 2%) 0.2546\n",
      "Learning Rate:  0.01\n"
     ]
    },
    {
     "name": "stderr",
     "output_type": "stream",
     "text": [
      "/usr/local/lib/python2.7/dist-packages/torch/serialization.py:250: UserWarning: Couldn't retrieve source code for container of type EncoderRNN. It won't be checked for correctness upon loading.\n",
      "  \"type \" + obj.__name__ + \". It won't be checked \"\n"
     ]
    },
    {
     "name": "stdout",
     "output_type": "stream",
     "text": [
      "3m 2s (- 72m 54s) (2 4%) 0.1354\n",
      "Learning Rate:  0.01\n",
      "4m 32s (- 71m 14s) (3 6%) 0.1342\n",
      "Learning Rate:  0.01\n",
      "6m 4s (- 69m 46s) (4 8%) 0.1332\n",
      "Learning Rate:  0.01\n",
      "7m 34s (- 68m 14s) (5 10%) 0.1313\n",
      "Learning Rate:  0.01\n",
      "9m 5s (- 66m 40s) (6 12%) 0.1287\n",
      "Learning Rate:  0.01\n",
      "10m 36s (- 65m 9s) (7 14%) 0.1255\n",
      "Learning Rate:  0.01\n",
      "12m 6s (- 63m 36s) (8 16%) 0.1214\n",
      "Learning Rate:  0.01\n",
      "13m 37s (- 62m 4s) (9 18%) 0.1158\n",
      "Learning Rate:  0.01\n",
      "15m 8s (- 60m 34s) (10 20%) 0.1115\n",
      "Learning Rate:  0.001\n",
      "16m 39s (- 59m 1s) (11 22%) 0.1086\n",
      "Learning Rate:  0.001\n",
      "18m 9s (- 57m 29s) (12 24%) 0.1081\n",
      "Learning Rate:  0.001\n",
      "19m 39s (- 55m 56s) (13 26%) 0.1078\n",
      "Learning Rate:  0.001\n",
      "21m 10s (- 54m 26s) (14 28%) 0.1076\n",
      "Learning Rate:  0.001\n",
      "22m 41s (- 52m 56s) (15 30%) 0.1073\n",
      "Learning Rate:  0.001\n",
      "24m 10s (- 51m 22s) (16 32%) 0.1071\n",
      "Learning Rate:  0.001\n",
      "25m 41s (- 49m 51s) (17 34%) 0.1069\n",
      "Learning Rate:  0.001\n",
      "27m 12s (- 48m 21s) (18 36%) 0.1067\n",
      "Learning Rate:  0.001\n",
      "28m 42s (- 46m 50s) (19 38%) 0.1065\n",
      "Learning Rate:  0.001\n",
      "30m 12s (- 45m 19s) (20 40%) 0.1063\n",
      "Learning Rate:  0.0001\n",
      "31m 43s (- 43m 48s) (21 42%) 0.1060\n",
      "Learning Rate:  0.0001\n",
      "33m 13s (- 42m 16s) (22 44%) 0.1059\n",
      "Learning Rate:  0.0001\n",
      "34m 42s (- 40m 44s) (23 46%) 0.1059\n",
      "Learning Rate:  0.0001\n",
      "36m 14s (- 39m 15s) (24 48%) 0.1059\n",
      "Learning Rate:  0.0001\n",
      "37m 44s (- 37m 44s) (25 50%) 0.1059\n",
      "Learning Rate:  1e-05\n",
      "39m 14s (- 36m 13s) (26 52%) 0.1058\n",
      "Learning Rate:  1e-05\n",
      "40m 44s (- 34m 42s) (27 54%) 0.1058\n",
      "Learning Rate:  1e-05\n",
      "42m 15s (- 33m 12s) (28 56%) 0.1058\n",
      "Learning Rate:  1e-05\n",
      "43m 46s (- 31m 41s) (29 57%) 0.1058\n",
      "Learning Rate:  1e-05\n",
      "45m 16s (- 30m 10s) (30 60%) 0.1058\n",
      "Learning Rate:  1e-05\n",
      "46m 47s (- 28m 40s) (31 62%) 0.1058\n",
      "Learning Rate:  1e-05\n",
      "48m 17s (- 27m 9s) (32 64%) 0.1058\n",
      "Learning Rate:  1e-05\n",
      "49m 46s (- 25m 38s) (33 66%) 0.1058\n",
      "Learning Rate:  1e-05\n",
      "51m 17s (- 24m 8s) (34 68%) 0.1058\n",
      "Learning Rate:  1e-05\n",
      "52m 48s (- 22m 37s) (35 70%) 0.1058\n",
      "Learning Rate:  0.01\n",
      "54m 18s (- 21m 7s) (36 72%) 0.1080\n",
      "Learning Rate:  0.01\n",
      "55m 49s (- 19m 36s) (37 74%) 0.1078\n",
      "Learning Rate:  0.01\n",
      "57m 20s (- 18m 6s) (38 76%) 0.1066\n",
      "Learning Rate:  0.01\n",
      "58m 51s (- 16m 35s) (39 78%) 0.1056\n",
      "Learning Rate:  0.01\n",
      "60m 21s (- 15m 5s) (40 80%) 0.1050\n",
      "Learning Rate:  0.01\n",
      "61m 52s (- 13m 35s) (41 82%) 0.1045\n",
      "Learning Rate:  0.01\n",
      "63m 22s (- 12m 4s) (42 84%) 0.1036\n",
      "Learning Rate:  0.01\n",
      "64m 53s (- 10m 33s) (43 86%) 0.1023\n",
      "Learning Rate:  0.01\n",
      "66m 24s (- 9m 3s) (44 88%) 0.1011\n",
      "Learning Rate:  0.01\n",
      "67m 54s (- 7m 32s) (45 90%) 0.0999\n",
      "Learning Rate:  0.01\n",
      "69m 23s (- 6m 2s) (46 92%) 0.0996\n",
      "Learning Rate:  0.01\n",
      "70m 53s (- 4m 31s) (47 94%) 0.0991\n",
      "Learning Rate:  0.01\n",
      "72m 24s (- 3m 1s) (48 96%) 0.0987\n",
      "Learning Rate:  0.01\n",
      "73m 55s (- 1m 30s) (49 98%) 0.0980\n",
      "Learning Rate:  0.01\n",
      "75m 24s (- 0m 0s) (50 100%) 0.0975\n"
     ]
    }
   ],
   "source": [
    "hidden_size = 10\n",
    "window_length = 5\n",
    "MAX_LENGTH = 5\n",
    "encoder1 = EncoderRNN(window_length, hidden_size).to(device)\n",
    "\n",
    "plt_loss = trainIters(encoder1, 50 , 42, print_every=1, plot_every=1,learning_rate=0.01)\n",
    "#torch.save(encoder1, 'pretrained_155_f5_v2.pt')"
   ]
  },
  {
   "cell_type": "markdown",
   "metadata": {},
   "source": [
    "## Hyper-Parameter Tuning\n",
    "#### 44 sentences , 0.01 lr, adam, shape 128, 64, epoch 4, loss 19.45 to 11.35       \n",
    "#### 44 sentences, 0.01 lr, adam, shape same, epoch 50, loss, 19.5 to 10.02 - flat for last 45 epochs            --> retrain with 0.001 lr\n",
    "#### 44 sentences, 0.001 lr, adam, shape same, epoch 15, loss 20 to 8.8\n",
    "#### 44 sentences, 0.001 lr, adam, shape same, epoch 40, loss 21 to 8.38"
   ]
  },
  {
   "cell_type": "code",
   "execution_count": 12,
   "metadata": {},
   "outputs": [],
   "source": [
    "# You can stop after this cell, all the below cells have miscellaneous code."
   ]
  },
  {
   "cell_type": "code",
   "execution_count": 16,
   "metadata": {},
   "outputs": [],
   "source": [
    "def evaluateRandomly(encoder, decoder, n=10):\n",
    "    for i in range(n):\n",
    "        pair = random.choice(pairs)\n",
    "        print('>', pair[0])\n",
    "        print('=', pair[1])\n",
    "        output_words, attentions = evaluate(encoder, decoder, pair[0])\n",
    "        output_sentence = ' '.join(output_words)\n",
    "        print('<', output_sentence)\n",
    "        print('')\n",
    "        \n",
    "def evaluateRandomBleu(encoder, decoder,n = 1000):\n",
    "    count = 0\n",
    "    bleu = 0\n",
    "    for i in range(n):\n",
    "        pair = random.choice(pairs)\n",
    "#         print('>', pair[0])\n",
    "#         print('=', pair[1])\n",
    "        output_words, attentions = evaluate(encoder, decoder, pair[0])\n",
    "        output_sentence = ' '.join(output_words)\n",
    "#         print('<', output_sentence)\n",
    "#         print(\"BLEU = \",sentence_bleu(output_sentence,pair[1]))\n",
    "        bleu+=sentence_bleu(output_sentence,pair[1])\n",
    "        count+=1\n",
    "    print(\"Average BLEU = \",bleu/count)"
   ]
  },
  {
   "cell_type": "code",
   "execution_count": 45,
   "metadata": {},
   "outputs": [
    {
     "name": "stdout",
     "output_type": "stream",
     "text": [
      "Average BLEU =  0.850870240641\n"
     ]
    }
   ],
   "source": [
    "evaluateRandomBleu(encoder1, attn_decoder1)"
   ]
  },
  {
   "cell_type": "code",
   "execution_count": 5,
   "metadata": {},
   "outputs": [
    {
     "data": {
      "text/plain": [
       "Text(0.5,1,u'Pretraining loss curve')"
      ]
     },
     "execution_count": 5,
     "metadata": {},
     "output_type": "execute_result"
    },
    {
     "data": {
      "image/png": "[encoded data removed]",
      "text/plain": [
       "<Figure size 432x288 with 1 Axes>"
      ]
     },
     "metadata": {
      "needs_background": "light"
     },
     "output_type": "display_data"
    }
   ],
   "source": [
    "# print(plt_loss)\n",
    "plt_loss = [21.086295206097013, 20.495831362059075, 19.786437528387662, 18.99678842936856, 18.133830379335844, 17.131665945305702, 15.908109154423364, 14.498725698655567, 13.014617763172696, 11.584699034275715, 10.353145313600374, 9.453177644158746, 8.934963498056574, 8.68917409891786, 8.564597499508956, 8.499453866019364, 8.450344860113946, 8.409526442773236, 8.391285570079484, 8.382780993024234, 8.382144897920632, 8.382953835031898, 8.383430364016965, 8.382003510666388, 8.379383924738432, 8.378945602179964, 8.37897179811216, 8.379407412454912, 8.379401724048286, 8.379643418876627, 8.379400271255859, 8.380087360117287, 8.379515963875308, 8.380575068268909, 8.37991573405953, 8.379985473360817, 8.379658934557288, 8.37974025586688, 8.379560913523418, 8.379618696016006]\n",
    "#44 sentences, 0.001 lr, adam, shape same, epoch 40, loss 21 to 8.38\n",
    "plt.plot(plt_loss)\n",
    "plt.xlabel(\"Epoch\")\n",
    "plt.ylabel(\"L1 Loss\")\n",
    "plt.title('Pretraining loss curve')\n"
   ]
  },
  {
   "cell_type": "code",
   "execution_count": 56,
   "metadata": {},
   "outputs": [
    {
     "name": "stdout",
     "output_type": "stream",
     "text": [
      "[21.178397907781644, 21.10090734445524, 20.8345060396018, 20.36218133683622, 19.778148575681406, 19.09570589565627, 18.31068482112373, 17.423330460222985, 16.43959401072598, 15.376273917861205, 14.271030364769418, 13.197061769838593, 12.269401157477166, 11.610432485304006, 11.25356828807076, 11.142544183711083, 11.126949497278375, 11.112594290986074, 11.098897132056358, 11.085850334082057, 11.079050839582225, 11.07781957991548, 11.07658800676294, 11.075354224570667, 11.074122819800786, 11.073458027619056, 11.073333523559542, 11.073210461081267, 11.073086792175472, 11.072961959087321, 11.07283501613726, 11.072709169865021, 11.072582600903702, 11.072456846192308, 11.0723279059369, 11.072260399709997, 11.07225055155764, 11.072241183132295, 11.07223123398222, 11.072222066898265, 11.072212238812387, 11.072202452063486, 11.072192262130311, 11.072181919318027, 11.072172213478456, 11.072161547431296, 11.072151409954664, 11.072140374212925, 11.072129546189217, 11.0721197100016]\n"
     ]
    },
    {
     "data": {
      "text/plain": [
       "[<matplotlib.lines.Line2D at 0x7fd0d6907ed0>]"
      ]
     },
     "execution_count": 56,
     "metadata": {},
     "output_type": "execute_result"
    },
    {
     "data": {
      "image/png": "[encoded data removed]",
      "text/plain": [
       "<Figure size 432x288 with 1 Axes>"
      ]
     },
     "metadata": {
      "needs_background": "light"
     },
     "output_type": "display_data"
    }
   ],
   "source": [
    "print(plt_loss)\n",
    "#44 sentences, 0.001 lr, adam, shape same, epoch 40, loss 21 to 8.38\n",
    "plt.plot(plt_loss)\n",
    "\n",
    "# if epoch <= 15:\n",
    "#     lr = 0.001\n",
    "# elif epoch <= 20:\n",
    "#     lr = 0.0001\n",
    "# elif epoch <= 25:\n",
    "#     lr = 0.00001\n",
    "# elif epoch <=35:\n",
    "#     lr = 0.000001\n",
    "# else:\n",
    "#     lr = 0.0000001"
   ]
  },
  {
   "cell_type": "code",
   "execution_count": 85,
   "metadata": {},
   "outputs": [
    {
     "data": {
      "text/plain": [
       "[<matplotlib.lines.Line2D at 0x7f17624d2b90>]"
      ]
     },
     "execution_count": 85,
     "metadata": {},
     "output_type": "execute_result"
    },
    {
     "data": {
      "image/png": "[encoded data removed]",
      "text/plain": [
       "<Figure size 432x288 with 1 Axes>"
      ]
     },
     "metadata": {
      "needs_background": "light"
     },
     "output_type": "display_data"
    }
   ],
   "source": [
    "# from IPython.core.interactiveshell import InteractiveShell\n",
    "# InteractiveShell.ast_node_interactivity = \"all\"\n",
    "%matplotlib inline\n",
    "plt.plot(plt_loss)"
   ]
  },
  {
   "cell_type": "code",
   "execution_count": 24,
   "metadata": {},
   "outputs": [],
   "source": [
    "enc = torch.load('pretrained_155_f5_v1')"
   ]
  },
  {
   "cell_type": "code",
   "execution_count": 62,
   "metadata": {},
   "outputs": [
    {
     "name": "stdout",
     "output_type": "stream",
     "text": [
      "tensor([[0.1381, 8.5328, 5.8547, 3.3859, 4.0402],\n",
      "        [0.0551, 8.7587, 5.9234, 3.3786, 3.2635],\n",
      "        [9.0875, 9.8095, 5.9663, 3.2976, 3.1128],\n",
      "        ...,\n",
      "        [1.0059, 5.0216, 4.5123, 6.2965, 3.6978],\n",
      "        [0.9853, 4.9965, 4.3684, 6.1697, 3.6662],\n",
      "        [0.9514, 5.0046, 4.4447, 6.2373, 3.6657]], device='cuda:0')\n"
     ]
    }
   ],
   "source": [
    "dt = get_sentence_data(0,10)\n",
    "dt = dt[0]\n",
    "print(dt)"
   ]
  },
  {
   "cell_type": "code",
   "execution_count": 76,
   "metadata": {},
   "outputs": [],
   "source": [
    "ENCODER_WINDOW = 10\n",
    "encoder_h1 = enc.initHidden()\n",
    "encoder_h2 = enc.initHidden()\n",
    "encoder_o1 = 0\n",
    "encoder_o2 = 0\n",
    "for ei in range(0,1):\n",
    "    encoder_o1, encoder_h1 = enc(dt[ei:ei+ENCODER_WINDOW], encoder_h1)\n",
    "    \n",
    "for ei in range(5,6):\n",
    "    encoder_o2, encoder_h2 = enc(dt[ei:ei+ENCODER_WINDOW], encoder_h2)"
   ]
  },
  {
   "cell_type": "code",
   "execution_count": 77,
   "metadata": {},
   "outputs": [
    {
     "name": "stdout",
     "output_type": "stream",
     "text": [
      "tensor(0.0019, device='cuda:0', grad_fn=<DistBackward>)\n"
     ]
    }
   ],
   "source": [
    "print(torch.dist(encoder_o1, encoder_o2,1))"
   ]
  },
  {
   "cell_type": "code",
   "execution_count": 60,
   "metadata": {},
   "outputs": [
    {
     "name": "stdout",
     "output_type": "stream",
     "text": [
      "tensor(0.0026, device='cuda:0', grad_fn=<NormBackward0>)\n"
     ]
    }
   ],
   "source": [
    "print(torch.norm(encoder_o1-encoder_o2,1))"
   ]
  },
  {
   "cell_type": "code",
   "execution_count": null,
   "metadata": {},
   "outputs": [],
   "source": []
  }
 ],
 "metadata": {
  "kernelspec": {
   "display_name": "Python 2",
   "language": "python",
   "name": "python2"
  },
  "language_info": {
   "codemirror_mode": {
    "name": "ipython",
    "version": 2
   },
   "file_extension": ".py",
   "mimetype": "text/x-python",
   "name": "python",
   "nbconvert_exporter": "python",
   "pygments_lexer": "ipython2",
   "version": "2.7.15rc1"
  }
 },
 "nbformat": 4,
 "nbformat_minor": 2
}
