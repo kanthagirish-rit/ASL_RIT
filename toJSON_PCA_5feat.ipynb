{
 "cells": [
  {
   "cell_type": "code",
   "execution_count": 5,
   "metadata": {},
   "outputs": [],
   "source": [
    "\"\"\"\n",
    "FEATURE REDUCTION TO 5 FEATURES\n",
    "\n",
    "This code extracts all the OpenPose keypoints from individual frame JSON files from all the input ASL video data. \n",
    "From that we extract all the required Face, Body and Hand keypoints. \n",
    "\n",
    "Principal component analysis is run on all the data to extract top 5 principal components. The input data is projected onto \n",
    "these 5 principal components to reduce the dimentionality from 148 to 5. \n",
    "\n",
    "The result of this dimentionality reduction is stored in the following files:\n",
    "    key_points_5.npy\n",
    "    key_points_5.pkl\n",
    "    \n",
    "\n",
    "NOTE: This code doesn't map the OpenPose data to corresponding ASL English sentences. \n",
    "That is done in different ipynb file:\n",
    "    For Frame to True Translation mapping, Use - gloss_frame_connection.ipynb\n",
    "    For Frame to Gloss mapping, Use - gloss_target_conversion.ipynb\n",
    "\"\"\"\n",
    "import numpy as np\n",
    "import pandas as pd\n",
    "import matplotlib.pyplot as plt\n",
    "from sklearn.metrics import accuracy_score\n",
    "import pickle\n",
    "from sklearn.decomposition import PCA\n",
    "from sklearn.preprocessing import StandardScaler\n",
    "import seaborn as sns\n",
    "import collections"
   ]
  },
  {
   "cell_type": "code",
   "execution_count": 6,
   "metadata": {},
   "outputs": [],
   "source": [
    "def get_face_points(x,i):\n",
    "    f_data = x[i]\n",
    "    # get just the points around the mouth/lips\n",
    "    start_pt_no = 48\n",
    "    end_pt_no = 67\n",
    "    f_data = f_data[start_pt_no*3:(end_pt_no+1)*3]\n",
    "#     print(len(f_data)/3)\n",
    "    return f_data\n",
    "\n",
    "def get_pose_points(x,i):\n",
    "    p_data = x[i]\n",
    "    # get neck and hands\n",
    "    start_pt_no = 0\n",
    "    end_pt_no = 7\n",
    "    p_data_final = p_data[start_pt_no*3:(end_pt_no+1)*3]\n",
    "    \n",
    "#     # get neck and cheek points\n",
    "    start_pt_no = 15\n",
    "    end_pt_no = 18\n",
    "    p_data_final.append(p_data[start_pt_no*3:(end_pt_no+1)*3])\n",
    "    p_data_final = np.hstack(p_data_final).copy()\n",
    "#     print(len(p_data_final)/3)\n",
    "    return p_data_final"
   ]
  },
  {
   "cell_type": "code",
   "execution_count": 7,
   "metadata": {},
   "outputs": [],
   "source": [
    "def get_data(data):\n",
    "    x = data['people'][0]\n",
    "    key_points = []\n",
    "    for i in x:\n",
    "#         print(i)\n",
    "        if i == 'pose_keypoints_2d':\n",
    "#             print(np.array(get_pose_points(x,i)).shape)\n",
    "            key_points.append(get_pose_points(x,i))\n",
    "        if i == 'face_keypoints_2d':\n",
    "#             print(np.array(get_face_points(x,i)).shape)\n",
    "            key_points.append(get_face_points(x,i))\n",
    "        if i == 'hand_left_keypoints_2d':\n",
    "#             print(len(x[i])/3)\n",
    "#             print(np.array(x[i]).shape)\n",
    "            key_points.append(x[i])\n",
    "        if i =='hand_right_keypoints_2d':\n",
    "#             print(len(x[i])/3)\n",
    "#             print(np.array(x[i]).shape)\n",
    "            key_points.append(x[i])\n",
    "    key_points = np.hstack(key_points).copy()\n",
    "#     normed_keypoints = (key_points - key_points.mean(axis=0)) / key_points.std(axis=0)\n",
    "#     return normed_keypoints\n",
    "    key_points = key_points[cleaned_indexes]\n",
    "    return key_points"
   ]
  },
  {
   "cell_type": "code",
   "execution_count": 4,
   "metadata": {},
   "outputs": [],
   "source": [
    "signer_names=['SIA02','SIB01','SIC02']\n",
    "story = ['story01-front_x264']\n",
    "frame = '00000000000'\n",
    "data = pd.read_json(signer_names[0]+'-'+story[0]+'/SIA02-story01-front_x264_000000000000_keypoints.json')"
   ]
  },
  {
   "cell_type": "code",
   "execution_count": 4,
   "metadata": {},
   "outputs": [],
   "source": [
    "remove_indexes = [i for i in range(2,222,3)]\n",
    "total_indexes = [i for i in range(0,222)]\n",
    "cleaned_indexes = np.setdiff1d(total_indexes,remove_indexes)"
   ]
  },
  {
   "cell_type": "code",
   "execution_count": 8,
   "metadata": {},
   "outputs": [
    {
     "name": "stdout",
     "output_type": "stream",
     "text": [
      "\n",
      "SIA02-story01-front_x264/\n",
      "Inner file -  SIA02-story01-front_x264/SIA02-story01-front_x264_000000001145_keypoints.json\n",
      "(1145, 148)\n",
      "\n",
      "SIB01-story01-front_x264/\n",
      "Inner file -  SIB01-story01-front_x264/SIB01-story01-front_x264_000000000947_keypoints.json\n",
      "(947, 148)\n",
      "\n",
      "SIC02-story01-front_x264/\n",
      "Inner file -  SIC02-story01-front_x264/SIC02-story01-front_x264_000000007502_keypoints.json\n",
      "(7502, 148)\n",
      "\n",
      "SIA02-story02-front_x264/\n",
      "Inner file -  SIA02-story02-front_x264/SIA02-story02-front_x264_000000000704_keypoints.json\n",
      "(704, 148)\n",
      "\n",
      "SIB01-story02-front_x264/\n",
      "Inner file -  SIB01-story02-front_x264/SIB01-story02-front_x264_000000000664_keypoints.json\n",
      "(664, 148)\n",
      "\n",
      "SIC02-story02-front_x264/\n",
      "Inner file -  SIC02-story02-front_x264/SIC02-story02-front_x264_000000001692_keypoints.json\n",
      "(1692, 148)\n",
      "\n",
      "SIA02-story03-front_x264/\n",
      "Inner file -  SIA02-story03-front_x264/SIA02-story03-front_x264_000000000000_keypoints.json\n",
      "'SIA02-story03-front_x264'\n",
      "\n",
      "SIA02-story04-front_x264/\n",
      "Inner file -  SIA02-story04-front_x264/SIA02-story04-front_x264_000000000000_keypoints.json\n",
      "'SIA02-story04-front_x264'\n",
      "\n",
      "SIA02-story05-front_x264/\n",
      "Inner file -  SIA02-story05-front_x264/SIA02-story05-front_x264_000000000676_keypoints.json\n",
      "(676, 148)\n",
      "\n",
      "SIB01-story05-front_x264/\n",
      "Inner file -  SIB01-story05-front_x264/SIB01-story05-front_x264_000000000980_keypoints.json\n",
      "(980, 148)\n",
      "\n",
      "SIC02-story05-front_x264/\n",
      "Inner file -  SIC02-story05-front_x264/SIC02-story05-front_x264_000000000981_keypoints.json\n",
      "(981, 148)\n",
      "\n",
      "SIA02-story06-front_x264/\n",
      "Inner file -  SIA02-story06-front_x264/SIA02-story06-front_x264_000000000841_keypoints.json\n",
      "(841, 148)\n",
      "\n",
      "SIB01-story06-front_x264/\n",
      "Inner file -  SIB01-story06-front_x264/SIB01-story06-front_x264_000000001789_keypoints.json\n",
      "(1789, 148)\n",
      "\n",
      "SIC02-story06-front_x264/\n",
      "Inner file -  SIC02-story06-front_x264/SIC02-story06-front_x264_000000002242_keypoints.json\n",
      "(2242, 148)\n",
      "\n",
      "SIA02-story07-front_x264/\n",
      "Inner file -  SIA02-story07-front_x264/SIA02-story07-front_x264_000000000000_keypoints.json\n",
      "'SIA02-story07-front_x264'\n",
      "\n",
      "SIA02-story08-front_x264/\n",
      "Inner file -  SIA02-story08-front_x264/SIA02-story08-front_x264_000000000000_keypoints.json\n",
      "'SIA02-story08-front_x264'\n",
      "\n",
      "SIA02-story09-front_x264/\n",
      "Inner file -  SIA02-story09-front_x264/SIA02-story09-front_x264_000000000800_keypoints.json\n",
      "(800, 148)\n",
      "\n",
      "SIB01-story09-front_x264/\n",
      "Inner file -  SIB01-story09-front_x264/SIB01-story09-front_x264_000000001157_keypoints.json\n",
      "(1157, 148)\n",
      "\n",
      "SIC02-story09-front_x264/\n",
      "Inner file -  SIC02-story09-front_x264/SIC02-story09-front_x264_000000001454_keypoints.json\n",
      "(1454, 148)\n"
     ]
    }
   ],
   "source": [
    "signer_names=['SIA02','SIB01','SIC02']\n",
    "story_name = 'story'\n",
    "frame = '00000000000'\n",
    "train_key_points = []\n",
    "for story in range(1,80):\n",
    "    if story<10:\n",
    "        s_no = '0'+str(story)\n",
    "    else:\n",
    "        s_no = str(story)\n",
    "    s_no = story_name+s_no\n",
    "    try:\n",
    "        for signer in signer_names:\n",
    "            dict_entry = {}\n",
    "            sub_name = signer+'-'+s_no+'-front_x264'\n",
    "            trans_dir = sub_name+'/'\n",
    "            print()\n",
    "            print(trans_dir)\n",
    "            i = 0\n",
    "            stop = False\n",
    "            while not stop:\n",
    "                x = int(i/10)\n",
    "                if x<1:\n",
    "                    space_counter=1\n",
    "                elif x<10:\n",
    "                    space_counter=2\n",
    "                elif x<100:\n",
    "                    space_counter=3\n",
    "                elif x<1000:\n",
    "                    space_counter=4\n",
    "\n",
    "                fname=frame[-space_counter::-1]+str(i)\n",
    "                file_name = trans_dir+sub_name+'_'+fname+'_keypoints.json'\n",
    "#                 print(file_name)\n",
    "                i+=1\n",
    "                try:\n",
    "                    data = pd.read_json(file_name)\n",
    "                except:\n",
    "                    stop = True\n",
    "                    print(\"Inner file - \",file_name)\n",
    "                    break\n",
    "                train_key_points_np = np.array(get_data(data))\n",
    "#                 print(train_key_points_np.shape)\n",
    "#                 train_key_points_np = train_key_points_np[:][cleaned_indexes]\n",
    "#                 print(train_key_points_np.shape)\n",
    "                train_key_points_np_5 = train_key_points_np\n",
    "                if sub_name not in dict_entry:\n",
    "                    dict_entry[sub_name] = train_key_points_np_5\n",
    "                else:\n",
    "                    dict_entry[sub_name] = np.vstack((dict_entry[sub_name],train_key_points_np_5))\n",
    "#                 train_key_points.append(get_data(data))\n",
    "            train_key_points.append(dict_entry)\n",
    "            print(train_key_points[np.array(train_key_points).shape[0]-1][sub_name].shape)\n",
    "    except Exception as e:\n",
    "        print(e)\n",
    "        pass"
   ]
  },
  {
   "cell_type": "code",
   "execution_count": 9,
   "metadata": {},
   "outputs": [
    {
     "name": "stdout",
     "output_type": "stream",
     "text": [
      "[{'SIA02-story01-front_x264': array([[307.166, 127.119, 305.919, ..., 457.3  , 182.72 , 454.907],\n",
      "       [307.17 , 128.355, 305.92 , ..., 456.396, 183.223, 454.961],\n",
      "       [307.172, 127.12 , 305.911, ..., 461.22 , 179.836, 454.883],\n",
      "       ...,\n",
      "       [315.059, 120.604, 313.725, ..., 433.73 , 148.794, 436.103],\n",
      "       [315.057, 120.604, 313.752, ..., 467.244, 157.31 , 462.692],\n",
      "       [315.045, 120.603, 313.748, ..., 436.708, 151.836, 438.998]])}, {'SIB01-story01-front_x264': array([[295.458, 120.535, 304.59 , ..., 464.929, 218.591, 465.712],\n",
      "       [294.161, 120.626, 304.606, ..., 405.032, 184.627, 405.032],\n",
      "       [294.152, 120.587, 304.604, ..., 464.873, 221.3  , 469.178],\n",
      "       ...,\n",
      "       [294.134, 127.114, 303.285, ..., 460.952, 212.616, 471.039],\n",
      "       [294.135, 128.368, 303.305, ..., 460.809, 212.951, 470.508],\n",
      "       [292.875, 128.373, 303.303, ..., 462.108, 212.977, 471.42 ]])}, {'SIC02-story01-front_x264': array([[308.507, 119.314, 312.432, ..., 408.831, 211.825, 411.632],\n",
      "       [307.234, 119.239, 311.139, ..., 409.114, 212.892, 411.563],\n",
      "       [307.182, 117.984, 309.825, ..., 444.828, 222.562, 453.203],\n",
      "       ...,\n",
      "       [329.371, 120.543, 328.104, ..., 406.167, 194.015, 409.404],\n",
      "       [329.388, 120.592, 328.079, ..., 458.704, 188.102, 466.532],\n",
      "       [328.131, 120.581, 328.043, ..., 411.065, 189.368, 415.754]])}, {'SIA02-story02-front_x264': array([[315.046, 121.924, 315.025, ..., 424.533, 145.013, 426.787],\n",
      "       [315.065, 121.894, 315.018, ..., 471.878, 138.309, 386.723],\n",
      "       [316.312, 120.603, 315.038, ..., 449.735, 140.345, 381.801],\n",
      "       ...,\n",
      "       [309.82 , 121.897, 313.735, ..., 410.491, 152.572, 411.994],\n",
      "       [309.807, 121.904, 312.426, ..., 412.904, 152.67 , 412.904],\n",
      "       [308.536, 121.927, 312.43 , ..., 467.387, 166.544, 465.92 ]])}, {'SIB01-story02-front_x264': array([[296.77 , 123.175, 305.896, ..., 415.964, 211.446, 419.446],\n",
      "       [296.774, 121.926, 305.89 , ..., 415.942, 211.784, 419.424],\n",
      "       [296.761, 123.165, 305.907, ..., 415.175, 211.802, 419.055],\n",
      "       ...,\n",
      "       [287.709, 124.479, 300.688, ..., 463.51 , 205.767, 471.92 ],\n",
      "       [287.696, 124.491, 299.418, ..., 462.599, 205.803, 470.979],\n",
      "       [287.702, 124.49 , 299.428, ..., 461.749, 206.445, 470.617]])}, {'SIC02-story02-front_x264': array([[302.013, 120.519, 308.496, ..., 403.507, 204.912, 407.169],\n",
      "       [303.275, 120.529, 308.538, ..., 402.201, 203.128, 405.978],\n",
      "       [303.288, 120.526, 308.559, ..., 402.606, 202.701, 406.805],\n",
      "       ...,\n",
      "       [298.031, 120.567, 307.254, ..., 382.12 , 235.295, 382.532],\n",
      "       [298.062, 120.555, 308.477, ..., 399.785, 236.434, 381.189],\n",
      "       [298.068, 120.561, 307.206, ..., 391.722, 235.951, 382.009]])}, {}, {}, {'SIA02-story05-front_x264': array([[307.271, 129.742, 309.805, ..., 246.06 , 256.735, 251.968],\n",
      "       [308.465, 129.735, 309.817, ..., 267.492, 265.236, 257.968],\n",
      "       [308.469, 129.755, 308.553, ..., 263.206, 269.059, 266.183],\n",
      "       ...,\n",
      "       [299.413, 128.386, 308.471, ..., 479.105, 137.842, 477.159],\n",
      "       [299.391, 128.367, 307.231, ..., 475.339, 135.928, 474.846],\n",
      "       [299.367, 128.354, 307.188, ..., 475.597, 134.649, 474.106]])}, {'SIB01-story05-front_x264': array([[296.707, 121.857, 308.534, ..., 411.144, 216.906, 415.196],\n",
      "       [296.748, 120.635, 309.804, ..., 461.578, 217.339, 470.624],\n",
      "       [296.76 , 120.638, 311.115, ..., 461.819, 216.692, 470.831],\n",
      "       ...,\n",
      "       [295.456, 129.64 , 304.607, ..., 421.767, 207.355, 422.903],\n",
      "       [295.469, 129.647, 304.62 , ..., 416.448, 206.966, 422.509],\n",
      "       [295.472, 128.407, 305.861, ..., 424.615, 208.546, 424.615]])}, {'SIC02-story05-front_x264': array([[307.151, 117.991, 307.263, ..., 408.583, 213.33 , 410.781],\n",
      "       [307.15 , 117.992, 308.494, ..., 408.205, 210.692, 410.868],\n",
      "       [307.156, 117.974, 308.489, ..., 407.558, 213.214, 408.863],\n",
      "       ...,\n",
      "       [308.477, 120.648, 309.856, ..., 453.073, 210.554, 462.184],\n",
      "       [308.583, 123.207, 311.139, ..., 453.204, 232.311, 459.629],\n",
      "       [309.81 , 127.082, 312.428, ..., 454.364, 241.338, 462.608]])}, {'SIA02-story06-front_x264': array([[307.187, 124.503, 307.262, ..., 457.519, 175.281, 456.033],\n",
      "       [307.195, 125.773, 307.239, ..., 467.64 , 171.509, 457.015],\n",
      "       [307.195, 125.777, 307.248, ..., 462.723, 153.95 , 444.888],\n",
      "       ...,\n",
      "       [309.806, 120.546, 315.02 , ..., 408.785, 147.458, 408.785],\n",
      "       [309.81 , 120.565, 315.045, ..., 462.663, 169.151, 462.145],\n",
      "       [309.825, 120.579, 316.313, ..., 446.151, 168.653, 463.26 ]])}, {'SIB01-story06-front_x264': array([[296.717, 130.969, 305.92 , ..., 420.573, 211.717, 424.417],\n",
      "       [296.718, 131.031, 305.91 , ..., 419.983, 212.419, 425.833],\n",
      "       [296.724, 131.035, 305.915, ..., 423.229, 212.481, 425.549],\n",
      "       ...,\n",
      "       [295.439, 123.201, 304.59 , ..., 466.997, 215.43 , 475.332],\n",
      "       [295.445, 123.215, 304.591, ..., 418.872, 218.301, 423.361],\n",
      "       [295.431, 124.489, 305.862, ..., 429.336, 221.35 , 432.704]])}, {'SIC02-story06-front_x264': array([[308.581, 117.988, 308.565, ..., 400.313, 194.214, 403.725],\n",
      "       [308.58 , 119.212, 308.559, ..., 399.457, 193.416, 404.826],\n",
      "       [311.14 , 117.967, 308.526, ..., 398.363, 192.28 , 402.659],\n",
      "       ...,\n",
      "       [317.691, 119.201, 317.609, ..., 409.842, 213.059, 412.68 ],\n",
      "       [317.585, 117.928, 317.609, ..., 409.888, 212.328, 413.403],\n",
      "       [315.059, 116.649, 316.376, ..., 394.515, 195.729, 401.648]])}, {}, {}, {'SIA02-story09-front_x264': array([[309.84 , 127.069, 309.813, ..., 458.844, 177.154, 458.358],\n",
      "       [309.844, 127.069, 309.822, ..., 457.568, 173.256, 456.113],\n",
      "       [309.859, 127.088, 309.852, ..., 458.055, 161.656, 439.728],\n",
      "       ...,\n",
      "       [307.238, 120.609, 305.892, ..., 431.058, 160.535, 432.493],\n",
      "       [307.22 , 120.619, 307.171, ..., 478.662, 189.36 , 477.706],\n",
      "       [307.222, 120.625, 307.218, ..., 484.127, 162.08 , 485.099]])}, {'SIB01-story09-front_x264': array([[294.152, 128.408, 301.98 , ..., 423.002, 209.365, 424.11 ],\n",
      "       [294.143, 128.386, 300.705, ..., 418.943, 209.718, 426.699],\n",
      "       [294.175, 128.379, 301.998, ..., 424.254, 209.7  , 426.072],\n",
      "       ...,\n",
      "       [298.076, 128.427, 307.171, ..., 461.849, 206.303, 470.523],\n",
      "       [298.082, 124.517, 307.187, ..., 462.   , 205.598, 471.03 ],\n",
      "       [298.07 , 124.514, 307.183, ..., 462.286, 205.635, 472.043]])}, {'SIC02-story09-front_x264': array([[312.428, 120.643, 317.704, ..., 417.885, 217.093, 421.128],\n",
      "       [313.747, 120.574, 317.707, ..., 418.993, 216.171, 421.807],\n",
      "       [316.302, 119.32 , 317.675, ..., 418.178, 214.016, 420.231],\n",
      "       ...,\n",
      "       [308.492, 112.766, 316.324, ..., 408.95 , 199.59 , 415.071],\n",
      "       [308.585, 115.376, 316.329, ..., 419.302, 208.999, 422.482],\n",
      "       [308.535, 117.921, 315.043, ..., 410.352, 198.959, 414.353]])}]\n"
     ]
    }
   ],
   "source": [
    "print(train_key_points)"
   ]
  },
  {
   "cell_type": "code",
   "execution_count": 10,
   "metadata": {},
   "outputs": [
    {
     "name": "stdout",
     "output_type": "stream",
     "text": [
      "(23574, 148)\n"
     ]
    }
   ],
   "source": [
    "count = 0\n",
    "t_key_points = []\n",
    "for i in train_key_points:\n",
    "    for key in i:\n",
    "        if count == 0:\n",
    "            t_key_points = i[key]\n",
    "            count += 1\n",
    "        else:\n",
    "            t_key_points = np.vstack((t_key_points, i[key]))\n",
    "\n",
    "t_key_points = np.array(t_key_points)\n",
    "print(t_key_points.shape)"
   ]
  },
  {
   "cell_type": "code",
   "execution_count": 11,
   "metadata": {},
   "outputs": [
    {
     "name": "stdout",
     "output_type": "stream",
     "text": [
      "[0.48664617 0.21471096 0.15142894 0.08328793 0.01246498]\n"
     ]
    }
   ],
   "source": [
    "pca = PCA(n_components=5)\n",
    "pca.fit(t_key_points)\n",
    "print(pca.explained_variance_ratio_)  "
   ]
  },
  {
   "cell_type": "code",
   "execution_count": 12,
   "metadata": {},
   "outputs": [
    {
     "name": "stdout",
     "output_type": "stream",
     "text": [
      "(148, 5)\n"
     ]
    }
   ],
   "source": [
    "print(pca.components_.T.shape)"
   ]
  },
  {
   "cell_type": "code",
   "execution_count": 30,
   "metadata": {},
   "outputs": [],
   "source": [
    "key_point_data = np.array(all_key_points)"
   ]
  },
  {
   "cell_type": "code",
   "execution_count": 18,
   "metadata": {},
   "outputs": [
    {
     "name": "stdout",
     "output_type": "stream",
     "text": [
      "\n",
      "SIA02-story01-front_x264/\n",
      "Inner file -  SIA02-story01-front_x264/SIA02-story01-front_x264_000000001145_keypoints.json\n",
      "(1145, 5)\n",
      "\n",
      "SIB01-story01-front_x264/\n",
      "Inner file -  SIB01-story01-front_x264/SIB01-story01-front_x264_000000000947_keypoints.json\n",
      "(947, 5)\n",
      "\n",
      "SIC02-story01-front_x264/\n",
      "Inner file -  SIC02-story01-front_x264/SIC02-story01-front_x264_000000007502_keypoints.json\n",
      "(7502, 5)\n",
      "\n",
      "SIA02-story02-front_x264/\n",
      "Inner file -  SIA02-story02-front_x264/SIA02-story02-front_x264_000000000704_keypoints.json\n",
      "(704, 5)\n",
      "\n",
      "SIB01-story02-front_x264/\n",
      "Inner file -  SIB01-story02-front_x264/SIB01-story02-front_x264_000000000664_keypoints.json\n",
      "(664, 5)\n",
      "\n",
      "SIC02-story02-front_x264/\n",
      "Inner file -  SIC02-story02-front_x264/SIC02-story02-front_x264_000000001692_keypoints.json\n",
      "(1692, 5)\n",
      "\n",
      "SIA02-story03-front_x264/\n",
      "Inner file -  SIA02-story03-front_x264/SIA02-story03-front_x264_000000000000_keypoints.json\n",
      "'SIA02-story03-front_x264'\n",
      "\n",
      "SIA02-story04-front_x264/\n",
      "Inner file -  SIA02-story04-front_x264/SIA02-story04-front_x264_000000000000_keypoints.json\n",
      "'SIA02-story04-front_x264'\n"
     ]
    }
   ],
   "source": [
    "signer_names=['SIA02','SIB01','SIC02']\n",
    "story_name = 'story'\n",
    "frame = '00000000000'\n",
    "train_key_points = []\n",
    "for story in range(1,80):\n",
    "    if story<10:\n",
    "        s_no = '0'+str(story)\n",
    "    else:\n",
    "        s_no = str(story)\n",
    "    s_no = story_name+s_no\n",
    "    try:\n",
    "        for signer in signer_names:\n",
    "            dict_entry = {}\n",
    "            sub_name = signer+'-'+s_no+'-front_x264'\n",
    "            trans_dir = sub_name+'/'\n",
    "            print()\n",
    "            print(trans_dir)\n",
    "            i = 0\n",
    "            stop = False\n",
    "            while not stop:\n",
    "                x = int(i/10)\n",
    "                if x<1:\n",
    "                    space_counter=1\n",
    "                elif x<10:\n",
    "                    space_counter=2\n",
    "                elif x<100:\n",
    "                    space_counter=3\n",
    "                elif x<1000:\n",
    "                    space_counter=4\n",
    "\n",
    "                fname=frame[-space_counter::-1]+str(i)\n",
    "                file_name = trans_dir+sub_name+'_'+fname+'_keypoints.json'\n",
    "#                 print(file_name)\n",
    "                i+=1\n",
    "                try:\n",
    "                    data = pd.read_json(file_name)\n",
    "                except:\n",
    "                    stop = True\n",
    "                    print(\"Inner file - \",file_name)\n",
    "                    break\n",
    "                train_key_points_np = np.array(get_data(data))\n",
    "#                 print(train_key_points_np.shape)\n",
    "#                 train_key_points_np = train_key_points_np[:][cleaned_indexes]\n",
    "#                 print(train_key_points_np.shape)\n",
    "                train_key_points_np_5 = np.matmul(train_key_points_np, pca.components_.T)\n",
    "#                 print(train_key_points_np_5.shape)\n",
    "                if sub_name not in dict_entry:\n",
    "                    dict_entry[sub_name] = train_key_points_np_5\n",
    "                else:\n",
    "                    dict_entry[sub_name] = np.vstack((dict_entry[sub_name],train_key_points_np_5))\n",
    "#                 train_key_points.append(get_data(data))\n",
    "            train_key_points.append(dict_entry)\n",
    "            print(train_key_points[np.array(train_key_points).shape[0]-1][sub_name].shape)\n",
    "    except Exception as e:\n",
    "        print(e)\n",
    "        pass\n",
    "    "
   ]
  },
  {
   "cell_type": "code",
   "execution_count": 19,
   "metadata": {},
   "outputs": [
    {
     "name": "stdout",
     "output_type": "stream",
     "text": [
      "8\n"
     ]
    }
   ],
   "source": [
    "print(len(train_key_points))"
   ]
  },
  {
   "cell_type": "code",
   "execution_count": 29,
   "metadata": {},
   "outputs": [],
   "source": [
    "with open('key_points_5.pkl','wb') as f:\n",
    "    pickle.dump(train_key_points, f)"
   ]
  },
  {
   "cell_type": "code",
   "execution_count": 30,
   "metadata": {},
   "outputs": [],
   "source": [
    "np.save('key_points_5.npy', train_key_points)"
   ]
  },
  {
   "cell_type": "code",
   "execution_count": 48,
   "metadata": {},
   "outputs": [
    {
     "name": "stdout",
     "output_type": "stream",
     "text": [
      "(19, 5)\n"
     ]
    }
   ],
   "source": [
    "loaded_data = np.load('key_points_5.npy')\n",
    "for key in loaded_data:\n",
    "    for k in key:\n",
    "        print(key[k][1:20].shape)\n",
    "        break\n",
    "    break"
   ]
  },
  {
   "cell_type": "code",
   "execution_count": 12,
   "metadata": {},
   "outputs": [
    {
     "name": "stdout",
     "output_type": "stream",
     "text": [
      "pose_keypoints_2d\n",
      "(36,)\n",
      "face_keypoints_2d\n",
      "(60,)\n",
      "hand_left_keypoints_2d\n",
      "(63,)\n",
      "hand_right_keypoints_2d\n",
      "(63,)\n",
      "pose_keypoints_3d\n",
      "face_keypoints_3d\n",
      "hand_left_keypoints_3d\n",
      "hand_right_keypoints_3d\n",
      "(148,)\n"
     ]
    }
   ],
   "source": [
    "fl_name = 'SIA02-story01-front_x264'+'\\SIA02-story01-front_x264_000000000000_keypoints.json'\n",
    "fl_data = pd.read_json(fl_name)\n",
    "print(get_data(fl_data).shape)"
   ]
  }
 ],
 "metadata": {
  "kernelspec": {
   "display_name": "Python 2",
   "language": "python",
   "name": "python2"
  },
  "language_info": {
   "codemirror_mode": {
    "name": "ipython",
    "version": 2
   },
   "file_extension": ".py",
   "mimetype": "text/x-python",
   "name": "python",
   "nbconvert_exporter": "python",
   "pygments_lexer": "ipython2",
   "version": "2.7.15rc1"
  }
 },
 "nbformat": 4,
 "nbformat_minor": 2
}
